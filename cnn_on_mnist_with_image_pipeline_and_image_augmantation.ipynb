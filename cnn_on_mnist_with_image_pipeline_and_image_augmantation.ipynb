{
 "cells": [
  {
   "cell_type": "code",
   "execution_count": 36,
   "metadata": {
    "id": "Rn_OqXj_6z5r"
   },
   "outputs": [],
   "source": [
    "from keras.datasets import mnist\n",
    "from matplotlib import pyplot as plt\n",
    "from keras.layers import*\n",
    "from keras.models import Sequential\n",
    "from keras.utils import np_utils"
   ]
  },
  {
   "cell_type": "code",
   "execution_count": 37,
   "metadata": {
    "colab": {
     "base_uri": "https://localhost:8080/"
    },
    "id": "oh1weiL-7CWs",
    "outputId": "00c74bc4-82d7-4457-ea0e-fbe1dcdd6d0d"
   },
   "outputs": [
    {
     "name": "stdout",
     "output_type": "stream",
     "text": [
      "(60000, 28, 28) (60000,)\n",
      "(10000, 28, 28) (10000,)\n"
     ]
    }
   ],
   "source": [
    "(x_train,y_train),(x_test,y_test) = mnist.load_data()\n",
    "print(x_train.shape,y_train.shape)\n",
    "print(x_test.shape,y_test.shape)"
   ]
  },
  {
   "cell_type": "code",
   "execution_count": 38,
   "metadata": {
    "id": "pd6kxnnJBK8n"
   },
   "outputs": [],
   "source": [
    "##now creating a imagedatagenerator from augmentation of an image\n",
    "from keras.preprocessing.image import ImageDataGenerator\n",
    "data_gen=ImageDataGenerator(\n",
    "    rescale=1.0/255.0,\n",
    "    rotation_range=40,\n",
    "    width_shift_range=0.2,\n",
    "    height_shift_range=0.2,\n",
    "    shear_range=0.2,\n",
    "    zoom_range=0.3,\n",
    "    horizontal_flip=True\n",
    ")\n",
    "test_gen=ImageDataGenerator(\n",
    "    rescale=1.0/255.0\n",
    ")\n",
    "val_generator=ImageDataGenerator(\n",
    "    rescale=1.0/255.0\n",
    ")\n"
   ]
  },
  {
   "cell_type": "code",
   "execution_count": 39,
   "metadata": {
    "id": "UWtDyZLs7TaC"
   },
   "outputs": [],
   "source": [
    "# here i will use image augmentation\n",
    "#image pipeline,\n",
    "#image dropouts\n",
    "#first break data into training and validation set \n",
    "# and after finding correct epoch i willl find that for whole mnist training dataset\n"
   ]
  },
  {
   "cell_type": "code",
   "execution_count": 40,
   "metadata": {
    "colab": {
     "base_uri": "https://localhost:8080/",
     "height": 282
    },
    "id": "VNOzHVRG-uzT",
    "outputId": "06c42200-8332-4ede-b1dc-e21b25ea930e"
   },
   "outputs": [
    {
     "data": {
      "text/plain": [
       "<matplotlib.image.AxesImage at 0x7fc3f16675c0>"
      ]
     },
     "execution_count": 40,
     "metadata": {
      "tags": []
     },
     "output_type": "execute_result"
    },
    {
     "data": {
      "image/png": "[encoded data removed]",
      "text/plain": [
       "<Figure size 432x288 with 1 Axes>"
      ]
     },
     "metadata": {
      "needs_background": "light",
      "tags": []
     },
     "output_type": "display_data"
    }
   ],
   "source": [
    "import numpy as np\n",
    "new_x_train=x_train[:50000]\n",
    "new_y_train=y_train[:50000]\n",
    "val_x_train=x_train[50000:]\n",
    "val_y_train=y_train[50000:]\n",
    "\n",
    "\n",
    "new_x_t=np.zeros((50000,28,28,3))\n",
    "new_x_t[:,:,:,0]=new_x_train\n",
    "new_x_t[:,:,:,1]=new_x_train\n",
    "new_x_t[:,:,:,2]=new_x_train\n",
    "val_x_t=np.zeros((10000,28,28,3))\n",
    "val_x_t[:,:,:,0]=val_x_train\n",
    "val_x_t[:,:,:,1]=val_x_train\n",
    "val_x_t[:,:,:,2]=val_x_train\n",
    "\n",
    "new_x_train=new_x_train.reshape(50000,28,28,1)\n",
    "val_x_train=val_x_train.reshape(10000,28,28,1)\n",
    "plt.imshow(new_x_train[1].reshape(28,28))"
   ]
  },
  {
   "cell_type": "code",
   "execution_count": 41,
   "metadata": {
    "colab": {
     "base_uri": "https://localhost:8080/"
    },
    "id": "amCeNakwATkf",
    "outputId": "8c3a7960-6234-4cfb-9361-56c3d4356d41"
   },
   "outputs": [
    {
     "name": "stdout",
     "output_type": "stream",
     "text": [
      "(2048, 28, 28, 1) (2048, 10)\n"
     ]
    }
   ],
   "source": [
    "data_gen.fit(new_x_train)\n",
    "new_y_train=np_utils.to_categorical(new_y_train,10)\n",
    "train_gen=data_gen.flow(new_x_train,new_y_train,batch_size=2048)\n",
    "val_y_train=np_utils.to_categorical(val_y_train,10)\n",
    "val_generator.fit(val_x_train)\n",
    "val_gen=val_generator.flow(val_x_train,val_y_train,batch_size=2048)\n",
    "#train_ids=np.array(train_gen)\n",
    "x,y=train_gen.next()\n",
    "print(x.shape,y.shape)"
   ]
  },
  {
   "cell_type": "code",
   "execution_count": 42,
   "metadata": {
    "colab": {
     "base_uri": "https://localhost:8080/"
    },
    "id": "Lhq22PV6DdlL",
    "outputId": "c574b8cc-e15c-49a2-ccd7-2fb3cffc317f"
   },
   "outputs": [
    {
     "name": "stdout",
     "output_type": "stream",
     "text": [
      "Model: \"sequential_6\"\n",
      "_________________________________________________________________\n",
      "Layer (type)                 Output Shape              Param #   \n",
      "=================================================================\n",
      "conv2d_18 (Conv2D)           (None, 26, 26, 32)        320       \n",
      "_________________________________________________________________\n",
      "max_pooling2d_12 (MaxPooling (None, 13, 13, 32)        0         \n",
      "_________________________________________________________________\n",
      "conv2d_19 (Conv2D)           (None, 11, 11, 64)        18496     \n",
      "_________________________________________________________________\n",
      "max_pooling2d_13 (MaxPooling (None, 5, 5, 64)          0         \n",
      "_________________________________________________________________\n",
      "conv2d_20 (Conv2D)           (None, 3, 3, 64)          36928     \n",
      "_________________________________________________________________\n",
      "flatten_6 (Flatten)          (None, 576)               0         \n",
      "_________________________________________________________________\n",
      "dense_12 (Dense)             (None, 64)                36928     \n",
      "_________________________________________________________________\n",
      "dense_13 (Dense)             (None, 10)                650       \n",
      "=================================================================\n",
      "Total params: 93,322\n",
      "Trainable params: 93,322\n",
      "Non-trainable params: 0\n",
      "_________________________________________________________________\n"
     ]
    }
   ],
   "source": [
    "#now my data generator and data augmentation all happen and i created my data for train,validity and test\n",
    "#now i have to create a cnn model for this\n",
    "model=Sequential()\n",
    "model.add(Conv2D(32,(3,3),activation='relu',input_shape=(28,28,1)))\n",
    "model.add(MaxPool2D(pool_size=(2,2)))\n",
    "model.add(Conv2D(64,(3,3),activation='relu',input_shape=(28,28,1)))\n",
    "model.add(MaxPool2D((2,2)))\n",
    "model.add(Conv2D(64,(3,3),activation='relu',input_shape=(28,28,1)))\n",
    "model.add(Flatten())\n",
    "model.add(Dense(64,activation='relu'))\n",
    "model.add(Dense(10,activation='softmax'))\n",
    "model.summary()"
   ]
  },
  {
   "cell_type": "code",
   "execution_count": 43,
   "metadata": {
    "colab": {
     "base_uri": "https://localhost:8080/"
    },
    "id": "2vfi02VNMGoU",
    "outputId": "a9e547fe-b274-4370-91d0-3d481170dbbc"
   },
   "outputs": [
    {
     "name": "stderr",
     "output_type": "stream",
     "text": [
      "/usr/local/lib/python3.6/dist-packages/tensorflow/python/keras/engine/training.py:1844: UserWarning: `Model.fit_generator` is deprecated and will be removed in a future version. Please use `Model.fit`, which supports generators.\n",
      "  warnings.warn('`Model.fit_generator` is deprecated and '\n"
     ]
    },
    {
     "name": "stdout",
     "output_type": "stream",
     "text": [
      "Epoch 1/20\n",
      "24/24 [==============================] - 12s 498ms/step - loss: 2.2557 - accuracy: 0.1442 - val_loss: 1.4834 - val_accuracy: 0.5375\n",
      "Epoch 2/20\n",
      "24/24 [==============================] - 12s 481ms/step - loss: 1.8758 - accuracy: 0.3320 - val_loss: 1.0831 - val_accuracy: 0.6683\n",
      "Epoch 3/20\n",
      "24/24 [==============================] - 12s 479ms/step - loss: 1.5912 - accuracy: 0.4516 - val_loss: 0.9382 - val_accuracy: 0.7183\n",
      "Epoch 4/20\n",
      "24/24 [==============================] - 12s 480ms/step - loss: 1.4325 - accuracy: 0.5159 - val_loss: 0.8018 - val_accuracy: 0.7439\n",
      "Epoch 5/20\n",
      "24/24 [==============================] - 12s 481ms/step - loss: 1.3123 - accuracy: 0.5581 - val_loss: 0.7024 - val_accuracy: 0.7949\n",
      "Epoch 6/20\n",
      "24/24 [==============================] - 12s 479ms/step - loss: 1.2458 - accuracy: 0.5831 - val_loss: 0.6332 - val_accuracy: 0.8037\n",
      "Epoch 7/20\n",
      "24/24 [==============================] - 12s 481ms/step - loss: 1.1681 - accuracy: 0.6092 - val_loss: 0.5862 - val_accuracy: 0.8220\n",
      "Epoch 8/20\n",
      "24/24 [==============================] - 12s 489ms/step - loss: 1.0838 - accuracy: 0.6403 - val_loss: 0.5408 - val_accuracy: 0.8322\n",
      "Epoch 9/20\n",
      "24/24 [==============================] - 11s 478ms/step - loss: 1.0505 - accuracy: 0.6543 - val_loss: 0.4911 - val_accuracy: 0.8511\n",
      "Epoch 10/20\n",
      "24/24 [==============================] - 12s 480ms/step - loss: 0.9767 - accuracy: 0.6795 - val_loss: 0.5118 - val_accuracy: 0.8452\n",
      "Epoch 11/20\n",
      "24/24 [==============================] - 12s 483ms/step - loss: 0.9564 - accuracy: 0.6847 - val_loss: 0.4440 - val_accuracy: 0.8655\n",
      "Epoch 12/20\n",
      "24/24 [==============================] - 12s 483ms/step - loss: 0.8984 - accuracy: 0.7036 - val_loss: 0.4372 - val_accuracy: 0.8708\n",
      "Epoch 13/20\n",
      "24/24 [==============================] - 12s 479ms/step - loss: 0.8688 - accuracy: 0.7133 - val_loss: 0.4129 - val_accuracy: 0.8788\n",
      "Epoch 14/20\n",
      "24/24 [==============================] - 12s 492ms/step - loss: 0.8353 - accuracy: 0.7264 - val_loss: 0.3848 - val_accuracy: 0.8857\n",
      "Epoch 15/20\n",
      "24/24 [==============================] - 12s 491ms/step - loss: 0.7994 - accuracy: 0.7389 - val_loss: 0.3244 - val_accuracy: 0.9039\n",
      "Epoch 16/20\n",
      "24/24 [==============================] - 12s 482ms/step - loss: 0.7733 - accuracy: 0.7457 - val_loss: 0.3415 - val_accuracy: 0.9036\n",
      "Epoch 17/20\n",
      "24/24 [==============================] - 11s 477ms/step - loss: 0.7516 - accuracy: 0.7540 - val_loss: 0.3124 - val_accuracy: 0.9113\n",
      "Epoch 18/20\n",
      "24/24 [==============================] - 11s 474ms/step - loss: 0.7443 - accuracy: 0.7588 - val_loss: 0.2978 - val_accuracy: 0.9158\n",
      "Epoch 19/20\n",
      "24/24 [==============================] - 12s 480ms/step - loss: 0.7064 - accuracy: 0.7707 - val_loss: 0.3002 - val_accuracy: 0.9133\n",
      "Epoch 20/20\n",
      "24/24 [==============================] - 12s 479ms/step - loss: 0.6790 - accuracy: 0.7805 - val_loss: 0.3618 - val_accuracy: 0.8928\n"
     ]
    }
   ],
   "source": [
    "model.compile(loss='categorical_crossentropy',optimizer='adam',metrics=['accuracy'])\n",
    "history=model.fit_generator(train_gen,epochs=20,steps_per_epoch=24,validation_data=val_gen,validation_steps=4)"
   ]
  },
  {
   "cell_type": "code",
   "execution_count": 57,
   "metadata": {
    "colab": {
     "base_uri": "https://localhost:8080/",
     "height": 266
    },
    "id": "CK5iW7xjRl1u",
    "outputId": "69531ae2-a1d3-4eee-932b-b46de31aad94"
   },
   "outputs": [
    {
     "data": {
      "image/png": "[encoded data removed]",
      "text/plain": [
       "<Figure size 432x288 with 1 Axes>"
      ]
     },
     "metadata": {
      "needs_background": "light",
      "tags": []
     },
     "output_type": "display_data"
    }
   ],
   "source": [
    "h=history.history\n",
    "train_loss=h['loss']\n",
    "train_acc=h['accuracy']\n",
    "val_loss=h['val_loss']\n",
    "val_accuracy=h['val_accuracy']\n",
    "plt.plot(train_loss,label='training loss')\n",
    "plt.plot(val_loss,label='validation_loss')\n",
    "plt.plot(train_acc,label='training accuarcy')\n",
    "plt.plot(val_accuracy,label='val_accuaracy')\n",
    "plt.legend()\n",
    "plt.show()"
   ]
  },
  {
   "cell_type": "code",
   "execution_count": null,
   "metadata": {
    "id": "WsIlY8OLl68j"
   },
   "outputs": [],
   "source": []
  }
 ],
 "metadata": {
  "accelerator": "GPU",
  "colab": {
   "collapsed_sections": [],
   "name": "Untitled2.ipynb",
   "provenance": []
  },
  "kernelspec": {
   "display_name": "Python 3",
   "language": "python",
   "name": "python3"
  },
  "language_info": {
   "codemirror_mode": {
    "name": "ipython",
    "version": 3
   },
   "file_extension": ".py",
   "mimetype": "text/x-python",
   "name": "python",
   "nbconvert_exporter": "python",
   "pygments_lexer": "ipython3",
   "version": "3.7.8"
  }
 },
 "nbformat": 4,
 "nbformat_minor": 1
}
