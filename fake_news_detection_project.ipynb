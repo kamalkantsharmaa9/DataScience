{
 "cells": [
  {
   "cell_type": "code",
   "execution_count": 84,
   "metadata": {},
   "outputs": [],
   "source": [
    "import keras.preprocessing \n",
    "import re\n",
    "import nltk\n",
    "import numpy as np\n",
    "import pandas as pd\n",
    "from nltk.corpus import stopwords\n",
    "#from tensorflow.keras.preprocessing.sequence import pad_sequences\n",
    "from nltk.tokenize import word_tokenize\n",
    "from nltk.tokenize import sent_tokenize\n",
    "from nltk.stem.porter import PorterStemmer\n",
    "ps = PorterStemmer()\n",
    "stopw=set(stopwords.words('english'))"
   ]
  },
  {
   "cell_type": "code",
   "execution_count": 57,
   "metadata": {},
   "outputs": [],
   "source": [
    "## here we use embeding_ind to make a disconary that have k-dimentional vector mapped with the key\n",
    "embeding_ind={}\n",
    "with open ('glove6b50d/glove.6B..txt',encoding='utf-8') as f:\n",
    "    for line in f:\n",
    "        values=line.split()\n",
    "        word=values[0]\n",
    "        #coef=np.asarray(values[1:],dt50dype=np.float)\n",
    "        coef=[ float(values[i]) for i in range(1,51)]\n",
    "        num=np.asarray(coef)\n",
    "        embeding_ind[word]=num\n"
   ]
  },
  {
   "cell_type": "code",
   "execution_count": 58,
   "metadata": {},
   "outputs": [],
   "source": [
    "df=pd.read_csv('fake-news/train.csv')\n",
    "test=pd.read_csv('fake-news/test.csv')\n",
    "for i in range(len(df)):\n",
    "    df.loc[i,'text']=str(df.loc[i,'text'])[:100]\n",
    "for i in range(len(test)):\n",
    "    test.loc[i,'text']=str(test.loc[i,'text'])[:100]\n"
   ]
  },
  {
   "cell_type": "code",
   "execution_count": 59,
   "metadata": {},
   "outputs": [
    {
     "data": {
      "text/html": [
       "<div>\n",
       "<style scoped>\n",
       "    .dataframe tbody tr th:only-of-type {\n",
       "        vertical-align: middle;\n",
       "    }\n",
       "\n",
       "    .dataframe tbody tr th {\n",
       "        vertical-align: top;\n",
       "    }\n",
       "\n",
       "    .dataframe thead th {\n",
       "        text-align: right;\n",
       "    }\n",
       "</style>\n",
       "<table border=\"1\" class=\"dataframe\">\n",
       "  <thead>\n",
       "    <tr style=\"text-align: right;\">\n",
       "      <th></th>\n",
       "      <th>id</th>\n",
       "      <th>title</th>\n",
       "      <th>author</th>\n",
       "      <th>text</th>\n",
       "      <th>label</th>\n",
       "    </tr>\n",
       "  </thead>\n",
       "  <tbody>\n",
       "    <tr>\n",
       "      <th>0</th>\n",
       "      <td>0</td>\n",
       "      <td>House Dem Aide: We Didn’t Even See Comey’s Let...</td>\n",
       "      <td>Darrell Lucus</td>\n",
       "      <td>House Dem Aide: We Didn’t Even See Comey’s Let...</td>\n",
       "      <td>1</td>\n",
       "    </tr>\n",
       "    <tr>\n",
       "      <th>1</th>\n",
       "      <td>1</td>\n",
       "      <td>FLYNN: Hillary Clinton, Big Woman on Campus - ...</td>\n",
       "      <td>Daniel J. Flynn</td>\n",
       "      <td>Ever get the feeling your life circles the rou...</td>\n",
       "      <td>0</td>\n",
       "    </tr>\n",
       "    <tr>\n",
       "      <th>2</th>\n",
       "      <td>2</td>\n",
       "      <td>Why the Truth Might Get You Fired</td>\n",
       "      <td>Consortiumnews.com</td>\n",
       "      <td>Why the Truth Might Get You Fired October 29, ...</td>\n",
       "      <td>1</td>\n",
       "    </tr>\n",
       "    <tr>\n",
       "      <th>3</th>\n",
       "      <td>3</td>\n",
       "      <td>15 Civilians Killed In Single US Airstrike Hav...</td>\n",
       "      <td>Jessica Purkiss</td>\n",
       "      <td>Videos 15 Civilians Killed In Single US Airstr...</td>\n",
       "      <td>1</td>\n",
       "    </tr>\n",
       "    <tr>\n",
       "      <th>4</th>\n",
       "      <td>4</td>\n",
       "      <td>Iranian woman jailed for fictional unpublished...</td>\n",
       "      <td>Howard Portnoy</td>\n",
       "      <td>Print \\nAn Iranian woman has been sentenced to...</td>\n",
       "      <td>1</td>\n",
       "    </tr>\n",
       "  </tbody>\n",
       "</table>\n",
       "</div>"
      ],
      "text/plain": [
       "   id                                              title              author  \\\n",
       "0   0  House Dem Aide: We Didn’t Even See Comey’s Let...       Darrell Lucus   \n",
       "1   1  FLYNN: Hillary Clinton, Big Woman on Campus - ...     Daniel J. Flynn   \n",
       "2   2                  Why the Truth Might Get You Fired  Consortiumnews.com   \n",
       "3   3  15 Civilians Killed In Single US Airstrike Hav...     Jessica Purkiss   \n",
       "4   4  Iranian woman jailed for fictional unpublished...      Howard Portnoy   \n",
       "\n",
       "                                                text  label  \n",
       "0  House Dem Aide: We Didn’t Even See Comey’s Let...      1  \n",
       "1  Ever get the feeling your life circles the rou...      0  \n",
       "2  Why the Truth Might Get You Fired October 29, ...      1  \n",
       "3  Videos 15 Civilians Killed In Single US Airstr...      1  \n",
       "4  Print \\nAn Iranian woman has been sentenced to...      1  "
      ]
     },
     "execution_count": 59,
     "metadata": {},
     "output_type": "execute_result"
    }
   ],
   "source": [
    "df.head()"
   ]
  },
  {
   "cell_type": "code",
   "execution_count": 60,
   "metadata": {},
   "outputs": [
    {
     "data": {
      "text/html": [
       "<div>\n",
       "<style scoped>\n",
       "    .dataframe tbody tr th:only-of-type {\n",
       "        vertical-align: middle;\n",
       "    }\n",
       "\n",
       "    .dataframe tbody tr th {\n",
       "        vertical-align: top;\n",
       "    }\n",
       "\n",
       "    .dataframe thead th {\n",
       "        text-align: right;\n",
       "    }\n",
       "</style>\n",
       "<table border=\"1\" class=\"dataframe\">\n",
       "  <thead>\n",
       "    <tr style=\"text-align: right;\">\n",
       "      <th></th>\n",
       "      <th>id</th>\n",
       "      <th>title</th>\n",
       "      <th>author</th>\n",
       "      <th>text</th>\n",
       "      <th>total</th>\n",
       "    </tr>\n",
       "  </thead>\n",
       "  <tbody>\n",
       "    <tr>\n",
       "      <th>0</th>\n",
       "      <td>0</td>\n",
       "      <td>House Dem Aide: We Didn’t Even See Comey’s Let...</td>\n",
       "      <td>Darrell Lucus</td>\n",
       "      <td>House Dem Aide: We Didn’t Even See Comey’s Let...</td>\n",
       "      <td>House Dem Aide: We Didn’t Even See Comey’s Let...</td>\n",
       "    </tr>\n",
       "    <tr>\n",
       "      <th>1</th>\n",
       "      <td>1</td>\n",
       "      <td>FLYNN: Hillary Clinton, Big Woman on Campus - ...</td>\n",
       "      <td>Daniel J. Flynn</td>\n",
       "      <td>Ever get the feeling your life circles the rou...</td>\n",
       "      <td>FLYNN: Hillary Clinton, Big Woman on Campus - ...</td>\n",
       "    </tr>\n",
       "    <tr>\n",
       "      <th>2</th>\n",
       "      <td>2</td>\n",
       "      <td>Why the Truth Might Get You Fired</td>\n",
       "      <td>Consortiumnews.com</td>\n",
       "      <td>Why the Truth Might Get You Fired October 29, ...</td>\n",
       "      <td>Why the Truth Might Get You Fired Consortiumne...</td>\n",
       "    </tr>\n",
       "    <tr>\n",
       "      <th>3</th>\n",
       "      <td>3</td>\n",
       "      <td>15 Civilians Killed In Single US Airstrike Hav...</td>\n",
       "      <td>Jessica Purkiss</td>\n",
       "      <td>Videos 15 Civilians Killed In Single US Airstr...</td>\n",
       "      <td>15 Civilians Killed In Single US Airstrike Hav...</td>\n",
       "    </tr>\n",
       "    <tr>\n",
       "      <th>4</th>\n",
       "      <td>4</td>\n",
       "      <td>Iranian woman jailed for fictional unpublished...</td>\n",
       "      <td>Howard Portnoy</td>\n",
       "      <td>Print \\nAn Iranian woman has been sentenced to...</td>\n",
       "      <td>Iranian woman jailed for fictional unpublished...</td>\n",
       "    </tr>\n",
       "  </tbody>\n",
       "</table>\n",
       "</div>"
      ],
      "text/plain": [
       "   id                                              title              author  \\\n",
       "0   0  House Dem Aide: We Didn’t Even See Comey’s Let...       Darrell Lucus   \n",
       "1   1  FLYNN: Hillary Clinton, Big Woman on Campus - ...     Daniel J. Flynn   \n",
       "2   2                  Why the Truth Might Get You Fired  Consortiumnews.com   \n",
       "3   3  15 Civilians Killed In Single US Airstrike Hav...     Jessica Purkiss   \n",
       "4   4  Iranian woman jailed for fictional unpublished...      Howard Portnoy   \n",
       "\n",
       "                                                text  \\\n",
       "0  House Dem Aide: We Didn’t Even See Comey’s Let...   \n",
       "1  Ever get the feeling your life circles the rou...   \n",
       "2  Why the Truth Might Get You Fired October 29, ...   \n",
       "3  Videos 15 Civilians Killed In Single US Airstr...   \n",
       "4  Print \\nAn Iranian woman has been sentenced to...   \n",
       "\n",
       "                                               total  \n",
       "0  House Dem Aide: We Didn’t Even See Comey’s Let...  \n",
       "1  FLYNN: Hillary Clinton, Big Woman on Campus - ...  \n",
       "2  Why the Truth Might Get You Fired Consortiumne...  \n",
       "3  15 Civilians Killed In Single US Airstrike Hav...  \n",
       "4  Iranian woman jailed for fictional unpublished...  "
      ]
     },
     "execution_count": 60,
     "metadata": {},
     "output_type": "execute_result"
    }
   ],
   "source": [
    "df['total'] = df['title']+' '+df['author']\n",
    "test['total']=test['title']+' '+test['author']\n",
    "\n",
    "df.total.fillna(df.text, inplace=True)   \n",
    "test.total.fillna(test.text, inplace=True)  \n",
    "X = df.drop('label',axis=1)\n",
    "y=df['label']\n",
    "df = df.fillna('')\n",
    "test = test.fillna('')\n",
    "## now i just fill all nan values with the empty string and also i have created a one more column that is total\n",
    "msg = X.copy()\n",
    "msg_test = test.copy()\n",
    "msg.head()"
   ]
  },
  {
   "cell_type": "code",
   "execution_count": 61,
   "metadata": {},
   "outputs": [
    {
     "data": {
      "text/plain": [
       "'Pelosi Calls for FBI Investigation to Find Out ’What the Russians Have on Donald Trump’ - Breitbart Pam Key'"
      ]
     },
     "execution_count": 61,
     "metadata": {},
     "output_type": "execute_result"
    }
   ],
   "source": [
    "msg_test.iloc[6]['total']"
   ]
  },
  {
   "cell_type": "code",
   "execution_count": 62,
   "metadata": {},
   "outputs": [],
   "source": [
    "def make_clear(msg):\n",
    "    corpus = []\n",
    "    for i in range(len(msg)):\n",
    "    \n",
    "        review = re.sub('[^a-zA-Z]',' ',msg['total'][i])\n",
    "        review = review.lower()\n",
    "        review = review.split()   \n",
    "        review = [ps.stem(word) for word in review if not word in stopw]\n",
    "        review = ' '.join(review)\n",
    "    \n",
    "        corpus.append(review)\n",
    "    return corpus\n",
    "corpus=make_clear(msg)\n",
    "corpus_test = make_clear(msg_test)"
   ]
  },
  {
   "cell_type": "code",
   "execution_count": 63,
   "metadata": {
    "scrolled": false
   },
   "outputs": [
    {
     "data": {
      "text/plain": [
       "['hous dem aid even see comey letter jason chaffetz tweet darrel lucu',\n",
       " 'flynn hillari clinton big woman campu breitbart daniel j flynn',\n",
       " 'truth might get fire consortiumnew com',\n",
       " 'civilian kill singl us airstrik identifi jessica purkiss',\n",
       " 'iranian woman jail fiction unpublish stori woman stone death adulteri howard portnoy',\n",
       " 'jacki mason hollywood would love trump bomb north korea lack tran bathroom exclus video breitbart daniel nussbaum',\n",
       " 'ever wonder britain icon pop pianist get long flight six pictu',\n",
       " 'beno hamon win french socialist parti presidenti nomin new york time alissa j rubin',\n",
       " 'donald j trump schedul make highli anticip visit church detroit saturda',\n",
       " 'back channel plan ukrain russia courtesi trump associ new york time megan twohey scott shane']"
      ]
     },
     "execution_count": 63,
     "metadata": {},
     "output_type": "execute_result"
    }
   ],
   "source": [
    "corpus[:10]"
   ]
  },
  {
   "cell_type": "code",
   "execution_count": 64,
   "metadata": {},
   "outputs": [],
   "source": [
    "def make_tokenize(x):\n",
    "    data=[]\n",
    "    for i in range(len(x)):\n",
    "        \n",
    "        t=word_tokenize(x[i])\n",
    "        data.append(t)\n",
    "    return data\n"
   ]
  },
  {
   "cell_type": "code",
   "execution_count": 65,
   "metadata": {
    "collapsed": true
   },
   "outputs": [
    {
     "name": "stderr",
     "output_type": "stream",
     "text": [
      "C:\\Users\\kip31\\AppData\\Roaming\\Python\\Python37\\site-packages\\ipykernel_launcher.py:3: VisibleDeprecationWarning: Creating an ndarray from ragged nested sequences (which is a list-or-tuple of lists-or-tuples-or ndarrays with different lengths or shapes) is deprecated. If you meant to do this, you must specify 'dtype=object' when creating the ndarray\n",
      "  This is separate from the ipykernel package so we can avoid doing imports until\n",
      "C:\\Users\\kip31\\AppData\\Roaming\\Python\\Python37\\site-packages\\ipykernel_launcher.py:4: VisibleDeprecationWarning: Creating an ndarray from ragged nested sequences (which is a list-or-tuple of lists-or-tuples-or ndarrays with different lengths or shapes) is deprecated. If you meant to do this, you must specify 'dtype=object' when creating the ndarray\n",
      "  after removing the cwd from sys.path.\n"
     ]
    }
   ],
   "source": [
    "x=make_tokenize(corpus)\n",
    "x_test=make_tokenize(corpus_test)\n",
    "x=np.array(x)\n",
    "x_test=np.array(x_test)\n"
   ]
  },
  {
   "cell_type": "code",
   "execution_count": 66,
   "metadata": {},
   "outputs": [
    {
     "name": "stdout",
     "output_type": "stream",
     "text": [
      "[list(['hous', 'dem', 'aid', 'even', 'see', 'comey', 'letter', 'jason', 'chaffetz', 'tweet', 'darrel', 'lucu'])\n",
      " list(['flynn', 'hillari', 'clinton', 'big', 'woman', 'campu', 'breitbart', 'daniel', 'j', 'flynn'])]\n"
     ]
    }
   ],
   "source": [
    "print(x[:2])"
   ]
  },
  {
   "cell_type": "code",
   "execution_count": 67,
   "metadata": {},
   "outputs": [],
   "source": [
    "def embeding_output(x):\n",
    "    maxlen=50\n",
    "    embeding_out=np.zeros((x.shape[0],maxlen,50))\n",
    "    for ix in range(x.shape[0]):\n",
    "        for j in range(maxlen):\n",
    "            try:\n",
    "                embeding_out[ix][j]=embeding_ind[x[ix][j].lower()]\n",
    "            except:\n",
    "                embeding_out[ix][j]=np.zeros((50,))\n",
    "    return embeding_out\n",
    "x_matrix=embeding_output(x)\n",
    "x_test_matrix=embeding_output(x_test)"
   ]
  },
  {
   "cell_type": "code",
   "execution_count": 68,
   "metadata": {},
   "outputs": [
    {
     "name": "stdout",
     "output_type": "stream",
     "text": [
      "(20800, 50, 50)\n"
     ]
    }
   ],
   "source": [
    "print(x_matrix.shape)"
   ]
  },
  {
   "cell_type": "code",
   "execution_count": 69,
   "metadata": {},
   "outputs": [
    {
     "name": "stdout",
     "output_type": "stream",
     "text": [
      "(20800, 1)\n"
     ]
    }
   ],
   "source": [
    "y=np.array(y)\n",
    "y1=y.reshape((y.shape[0],1))\n",
    "y1=np.asarray(y1,dtype=int)\n",
    "print(y1.shape)"
   ]
  },
  {
   "cell_type": "code",
   "execution_count": 85,
   "metadata": {},
   "outputs": [],
   "source": [
    "import tensorflow as tf\n",
    "from tensorflow.keras import datasets, layers, models,utils\n",
    "import matplotlib.pyplot as plt\n",
    "from tensorflow.keras.layers import *\n",
    "from tensorflow.keras import Sequential"
   ]
  },
  {
   "cell_type": "code",
   "execution_count": 71,
   "metadata": {},
   "outputs": [
    {
     "name": "stdout",
     "output_type": "stream",
     "text": [
      "Model: \"sequential_1\"\n",
      "_________________________________________________________________\n",
      "Layer (type)                 Output Shape              Param #   \n",
      "=================================================================\n",
      "lstm_1 (LSTM)                (None, 64)                29440     \n",
      "_________________________________________________________________\n",
      "dropout_2 (Dropout)          (None, 64)                0         \n",
      "_________________________________________________________________\n",
      "dense_2 (Dense)              (None, 64)                4160      \n",
      "_________________________________________________________________\n",
      "dropout_3 (Dropout)          (None, 64)                0         \n",
      "_________________________________________________________________\n",
      "dense_3 (Dense)              (None, 1)                 65        \n",
      "=================================================================\n",
      "Total params: 33,665\n",
      "Trainable params: 33,665\n",
      "Non-trainable params: 0\n",
      "_________________________________________________________________\n"
     ]
    }
   ],
   "source": [
    "model=Sequential()\n",
    "model.add(LSTM(64,input_shape=(50,50)))\n",
    "model.add(Dropout(0.5))\n",
    "model.add(Dense(64,activation='relu'))\n",
    "model.add(Dropout(0.3))\n",
    "model.add(Dense(1,activation='sigmoid'))\n",
    "model.compile(loss='binary_crossentropy',optimizer='adam',metrics=['accuracy'])\n",
    "model.summary()"
   ]
  },
  {
   "cell_type": "code",
   "execution_count": 72,
   "metadata": {},
   "outputs": [
    {
     "name": "stdout",
     "output_type": "stream",
     "text": [
      "WARNING:tensorflow:`period` argument is deprecated. Please use `save_freq` to specify the frequency in number of batches seen.\n"
     ]
    }
   ],
   "source": [
    "from tensorflow.keras.callbacks import ModelCheckpoint\n",
    "checkpoint=ModelCheckpoint('best_model.h5',\n",
    "                           monitor='val_loss',\n",
    "                           verbose=0,\n",
    "                            save_best_only=True,\n",
    "                          mode='auto',save_weights_only=False,period=1)\n"
   ]
  },
  {
   "cell_type": "code",
   "execution_count": 73,
   "metadata": {},
   "outputs": [
    {
     "name": "stdout",
     "output_type": "stream",
     "text": [
      "Epoch 1/15\n",
      "130/130 [==============================] - 5s 34ms/step - loss: 0.5042 - accuracy: 0.7235 - val_loss: 0.2490 - val_accuracy: 0.8945\n",
      "Epoch 2/15\n",
      "130/130 [==============================] - 4s 32ms/step - loss: 0.1783 - accuracy: 0.9323 - val_loss: 0.1466 - val_accuracy: 0.9474\n",
      "Epoch 3/15\n",
      "130/130 [==============================] - 5s 35ms/step - loss: 0.1311 - accuracy: 0.9502 - val_loss: 0.1109 - val_accuracy: 0.9625\n",
      "Epoch 4/15\n",
      "130/130 [==============================] - 5s 38ms/step - loss: 0.0971 - accuracy: 0.9685 - val_loss: 0.1044 - val_accuracy: 0.9675\n",
      "Epoch 5/15\n",
      "130/130 [==============================] - 5s 39ms/step - loss: 0.0755 - accuracy: 0.9761 - val_loss: 0.0738 - val_accuracy: 0.9786\n",
      "Epoch 6/15\n",
      "130/130 [==============================] - 5s 40ms/step - loss: 0.0600 - accuracy: 0.9819 - val_loss: 0.0649 - val_accuracy: 0.9815\n",
      "Epoch 7/15\n",
      "130/130 [==============================] - 5s 41ms/step - loss: 0.0481 - accuracy: 0.9853 - val_loss: 0.0764 - val_accuracy: 0.9776\n",
      "Epoch 8/15\n",
      "130/130 [==============================] - 5s 42ms/step - loss: 0.0487 - accuracy: 0.9859 - val_loss: 0.0695 - val_accuracy: 0.9776\n",
      "Epoch 9/15\n",
      "130/130 [==============================] - 5s 41ms/step - loss: 0.0331 - accuracy: 0.9910 - val_loss: 0.0673 - val_accuracy: 0.9805\n",
      "Epoch 10/15\n",
      "130/130 [==============================] - 5s 41ms/step - loss: 0.0341 - accuracy: 0.9903 - val_loss: 0.0721 - val_accuracy: 0.9817\n",
      "Epoch 11/15\n",
      "130/130 [==============================] - 5s 41ms/step - loss: 0.0359 - accuracy: 0.9903 - val_loss: 0.0710 - val_accuracy: 0.9815\n",
      "Epoch 12/15\n",
      "130/130 [==============================] - 6s 46ms/step - loss: 0.0242 - accuracy: 0.9936 - val_loss: 0.0657 - val_accuracy: 0.9825\n",
      "Epoch 13/15\n",
      "130/130 [==============================] - 6s 44ms/step - loss: 0.0300 - accuracy: 0.9915 - val_loss: 0.0633 - val_accuracy: 0.9832\n",
      "Epoch 14/15\n",
      "130/130 [==============================] - 5s 42ms/step - loss: 0.0208 - accuracy: 0.9946 - val_loss: 0.0817 - val_accuracy: 0.9764\n",
      "Epoch 15/15\n",
      "130/130 [==============================] - 6s 47ms/step - loss: 0.0202 - accuracy: 0.9945 - val_loss: 0.0709 - val_accuracy: 0.9827\n"
     ]
    }
   ],
   "source": [
    "#model.fit(x_matrix,)\n",
    "hist=model.fit(x_matrix,y1,epochs=15,batch_size=128,shuffle=True,validation_split=0.2,callbacks=[checkpoint])"
   ]
  },
  {
   "cell_type": "code",
   "execution_count": 86,
   "metadata": {},
   "outputs": [],
   "source": [
    "model.load_weights('best_model.h5')"
   ]
  },
  {
   "cell_type": "code",
   "execution_count": 75,
   "metadata": {},
   "outputs": [
    {
     "name": "stdout",
     "output_type": "stream",
     "text": [
      "650/650 [==============================] - 4s 5ms/step - loss: 0.0259 - accuracy: 0.9937\n"
     ]
    },
    {
     "data": {
      "text/plain": [
       "[0.02589958719909191, 0.9937499761581421]"
      ]
     },
     "execution_count": 75,
     "metadata": {},
     "output_type": "execute_result"
    }
   ],
   "source": [
    "model.evaluate(x_matrix,y1)"
   ]
  },
  {
   "cell_type": "code",
   "execution_count": 76,
   "metadata": {},
   "outputs": [],
   "source": [
    "y_pred=(model.predict(x_test_matrix) > 0.5).astype(\"int32\")"
   ]
  },
  {
   "cell_type": "code",
   "execution_count": 78,
   "metadata": {},
   "outputs": [],
   "source": [
    "y_pred\n",
    "\n",
    "final_sub = pd.DataFrame(y_pred,columns=['label'])\n",
    "final_sub['id']=test['id']\n",
    "final_sub=final_sub[['id','label']]\n",
    "final_sub.to_csv('final_sub.csv',index=False)"
   ]
  },
  {
   "cell_type": "code",
   "execution_count": 79,
   "metadata": {
    "collapsed": true
   },
   "outputs": [
    {
     "name": "stderr",
     "output_type": "stream",
     "text": [
      "C:\\Users\\kip31\\AppData\\Roaming\\Python\\Python37\\site-packages\\ipykernel_launcher.py:6: SettingWithCopyWarning: \n",
      "A value is trying to be set on a copy of a slice from a DataFrame\n",
      "\n",
      "See the caveats in the documentation: https://pandas.pydata.org/pandas-docs/stable/user_guide/indexing.html#returning-a-view-versus-a-copy\n",
      "  \n",
      "C:\\Users\\kip31\\AppData\\Roaming\\Python\\Python37\\site-packages\\pandas\\core\\indexing.py:670: SettingWithCopyWarning: \n",
      "A value is trying to be set on a copy of a slice from a DataFrame\n",
      "\n",
      "See the caveats in the documentation: https://pandas.pydata.org/pandas-docs/stable/user_guide/indexing.html#returning-a-view-versus-a-copy\n",
      "  iloc._setitem_with_indexer(indexer, value)\n",
      "C:\\Users\\kip31\\AppData\\Roaming\\Python\\Python37\\site-packages\\ipykernel_launcher.py:8: SettingWithCopyWarning: \n",
      "A value is trying to be set on a copy of a slice from a DataFrame\n",
      "\n",
      "See the caveats in the documentation: https://pandas.pydata.org/pandas-docs/stable/user_guide/indexing.html#returning-a-view-versus-a-copy\n",
      "  \n"
     ]
    }
   ],
   "source": [
    "dddd=pd.read_csv('final_sub.csv')\n",
    "dddd['news']=msg_test['total']\n",
    "dddd.head()\n",
    "for i in range(len(dddd)):\n",
    "    if dddd['label'][i]==0:\n",
    "        dddd['label'][i]='False'\n",
    "    else:\n",
    "        dddd['label'][i]='True'"
   ]
  },
  {
   "cell_type": "code",
   "execution_count": 83,
   "metadata": {},
   "outputs": [
    {
     "data": {
      "text/html": [
       "<div>\n",
       "<style scoped>\n",
       "    .dataframe tbody tr th:only-of-type {\n",
       "        vertical-align: middle;\n",
       "    }\n",
       "\n",
       "    .dataframe tbody tr th {\n",
       "        vertical-align: top;\n",
       "    }\n",
       "\n",
       "    .dataframe thead th {\n",
       "        text-align: right;\n",
       "    }\n",
       "</style>\n",
       "<table border=\"1\" class=\"dataframe\">\n",
       "  <thead>\n",
       "    <tr style=\"text-align: right;\">\n",
       "      <th></th>\n",
       "      <th>id</th>\n",
       "      <th>news</th>\n",
       "      <th>label</th>\n",
       "    </tr>\n",
       "  </thead>\n",
       "  <tbody>\n",
       "    <tr>\n",
       "      <th>0</th>\n",
       "      <td>20800</td>\n",
       "      <td>Specter of Trump Loosens Tongues, if Not Purse...</td>\n",
       "      <td>False</td>\n",
       "    </tr>\n",
       "    <tr>\n",
       "      <th>1</th>\n",
       "      <td>20801</td>\n",
       "      <td>Russian warships ready to strike terrorists ne...</td>\n",
       "      <td>True</td>\n",
       "    </tr>\n",
       "    <tr>\n",
       "      <th>2</th>\n",
       "      <td>20802</td>\n",
       "      <td>#NoDAPL: Native American Leaders Vow to Stay A...</td>\n",
       "      <td>True</td>\n",
       "    </tr>\n",
       "    <tr>\n",
       "      <th>3</th>\n",
       "      <td>20803</td>\n",
       "      <td>Tim Tebow Will Attempt Another Comeback, This ...</td>\n",
       "      <td>False</td>\n",
       "    </tr>\n",
       "    <tr>\n",
       "      <th>4</th>\n",
       "      <td>20804</td>\n",
       "      <td>Keiser Report: Meme Wars (E995) Truth Broadcas...</td>\n",
       "      <td>True</td>\n",
       "    </tr>\n",
       "    <tr>\n",
       "      <th>5</th>\n",
       "      <td>20805</td>\n",
       "      <td>Trump is USA's antique hero. Clinton will be n...</td>\n",
       "      <td>True</td>\n",
       "    </tr>\n",
       "    <tr>\n",
       "      <th>6</th>\n",
       "      <td>20806</td>\n",
       "      <td>Pelosi Calls for FBI Investigation to Find Out...</td>\n",
       "      <td>False</td>\n",
       "    </tr>\n",
       "    <tr>\n",
       "      <th>7</th>\n",
       "      <td>20807</td>\n",
       "      <td>Weekly Featured Profile – Randy Shannon Trevor...</td>\n",
       "      <td>True</td>\n",
       "    </tr>\n",
       "  </tbody>\n",
       "</table>\n",
       "</div>"
      ],
      "text/plain": [
       "      id                                               news  label\n",
       "0  20800  Specter of Trump Loosens Tongues, if Not Purse...  False\n",
       "1  20801  Russian warships ready to strike terrorists ne...   True\n",
       "2  20802  #NoDAPL: Native American Leaders Vow to Stay A...   True\n",
       "3  20803  Tim Tebow Will Attempt Another Comeback, This ...  False\n",
       "4  20804  Keiser Report: Meme Wars (E995) Truth Broadcas...   True\n",
       "5  20805  Trump is USA's antique hero. Clinton will be n...   True\n",
       "6  20806  Pelosi Calls for FBI Investigation to Find Out...  False\n",
       "7  20807  Weekly Featured Profile – Randy Shannon Trevor...   True"
      ]
     },
     "execution_count": 83,
     "metadata": {},
     "output_type": "execute_result"
    }
   ],
   "source": [
    "check_news=dddd[['id','news','label']]\n",
    "check_news.head(n=8)\n"
   ]
  },
  {
   "cell_type": "code",
   "execution_count": 88,
   "metadata": {},
   "outputs": [
    {
     "data": {
      "text/plain": [
       "{'loss': [0.360370934009552,\n",
       "  0.1669195592403412,\n",
       "  0.12724250555038452,\n",
       "  0.09432101249694824,\n",
       "  0.0742965117096901,\n",
       "  0.056168727576732635,\n",
       "  0.052117981016635895,\n",
       "  0.04606597498059273,\n",
       "  0.03779976814985275,\n",
       "  0.035715870559215546,\n",
       "  0.03493086248636246,\n",
       "  0.028963007032871246,\n",
       "  0.03041638806462288,\n",
       "  0.025144008919596672,\n",
       "  0.019711541011929512],\n",
       " 'accuracy': [0.8371394276618958,\n",
       "  0.9372596144676208,\n",
       "  0.9531850814819336,\n",
       "  0.9697115421295166,\n",
       "  0.9755408763885498,\n",
       "  0.9829326868057251,\n",
       "  0.9844951629638672,\n",
       "  0.9875600934028625,\n",
       "  0.9895432591438293,\n",
       "  0.990504801273346,\n",
       "  0.9896634817123413,\n",
       "  0.9921274185180664,\n",
       "  0.9915264248847961,\n",
       "  0.9933293461799622,\n",
       "  0.9947716593742371],\n",
       " 'val_loss': [0.24904201924800873,\n",
       "  0.14657215774059296,\n",
       "  0.11093752086162567,\n",
       "  0.10439300537109375,\n",
       "  0.07382655888795853,\n",
       "  0.06485161930322647,\n",
       "  0.0764293521642685,\n",
       "  0.06948527693748474,\n",
       "  0.06729062646627426,\n",
       "  0.07210667431354523,\n",
       "  0.071004718542099,\n",
       "  0.06568975746631622,\n",
       "  0.06329216808080673,\n",
       "  0.08168484270572662,\n",
       "  0.07091224938631058],\n",
       " 'val_accuracy': [0.8944711685180664,\n",
       "  0.9473557472229004,\n",
       "  0.9624999761581421,\n",
       "  0.9675480723381042,\n",
       "  0.9786057472229004,\n",
       "  0.9814903736114502,\n",
       "  0.9776442050933838,\n",
       "  0.9776442050933838,\n",
       "  0.9805288314819336,\n",
       "  0.9817307591438293,\n",
       "  0.9814903736114502,\n",
       "  0.9824519157409668,\n",
       "  0.9831730723381042,\n",
       "  0.9764423370361328,\n",
       "  0.982692301273346]}"
      ]
     },
     "execution_count": 88,
     "metadata": {},
     "output_type": "execute_result"
    }
   ],
   "source": [
    "hist.history"
   ]
  },
  {
   "cell_type": "code",
   "execution_count": 91,
   "metadata": {},
   "outputs": [
    {
     "data": {
      "image/png": "[encoded data removed]",
      "text/plain": [
       "<Figure size 432x288 with 1 Axes>"
      ]
     },
     "metadata": {
      "needs_background": "light"
     },
     "output_type": "display_data"
    }
   ],
   "source": [
    "plt.plot(hist.history['loss'],label='training loss')\n",
    "plt.plot(hist.history['val_loss'],label='validation loss')\n",
    "plt.legend()\n",
    "plt.show()\n"
   ]
  },
  {
   "cell_type": "code",
   "execution_count": null,
   "metadata": {},
   "outputs": [],
   "source": []
  }
 ],
 "metadata": {
  "kernelspec": {
   "display_name": "Python 3",
   "language": "python",
   "name": "python3"
  },
  "language_info": {
   "codemirror_mode": {
    "name": "ipython",
    "version": 3
   },
   "file_extension": ".py",
   "mimetype": "text/x-python",
   "name": "python",
   "nbconvert_exporter": "python",
   "pygments_lexer": "ipython3",
   "version": "3.7.8"
  }
 },
 "nbformat": 4,
 "nbformat_minor": 4
}
