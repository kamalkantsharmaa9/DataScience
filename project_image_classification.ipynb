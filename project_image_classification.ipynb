{
 "cells": [
  {
   "cell_type": "code",
   "execution_count": 1,
   "metadata": {},
   "outputs": [],
   "source": [
    "import cv2\n",
    "import matplotlib.pyplot as plt\n",
    "from  pathlib import Path"
   ]
  },
  {
   "cell_type": "code",
   "execution_count": 2,
   "metadata": {},
   "outputs": [],
   "source": [
    "import pandas as pd\n",
    "import numpy as np"
   ]
  },
  {
   "cell_type": "code",
   "execution_count": 3,
   "metadata": {},
   "outputs": [],
   "source": [
    "def plotimg(img):\n",
    "    plt.imshow(img)\n",
    "    plt.show()\n",
    "    return"
   ]
  },
  {
   "cell_type": "code",
   "execution_count": 4,
   "metadata": {},
   "outputs": [],
   "source": [
    "df=pd.read_csv(\"data/Train/train.csv\")\n",
    "df.set_index(\"ImageId\", inplace = True)\n",
    "dn=df.values\n",
    "classes_name=np.unique(dn[:,-1])\n",
    "classes=classes_name.shape[0]\n",
    "label_disc={}\n",
    "for i in range(classes):\n",
    "    label_disc.update({str(classes_name[i]):str(i)})\n",
    "##till now i prepared label_discnary and classes(no of classes)\n",
    "p=Path(\"data/Train/Images\")\n",
    "image_data=[]\n",
    "labels=[]\n",
    "for img_path in list(p.glob('*.jpg')):\n",
    "    img_name=str(img_path).split('\\\\')[-1]\n",
    "    img=cv2.imread(str(img_path),cv2.COLOR_BGR2RGB)\n",
    "    img=cv2.resize(img,(40,40))\n",
    "    #print(img.shape)\n",
    "    image_data.append(img)\n",
    "    labels.append(int(label_disc[df.loc[img_name][0]]))\n"
   ]
  },
  {
   "cell_type": "code",
   "execution_count": 5,
   "metadata": {},
   "outputs": [],
   "source": [
    "image_data=np.array(image_data)\n",
    "labels=np.array(labels)\n",
    "M=image_data.shape[0]\n",
    "image_data=image_data.reshape(M,-1)  "
   ]
  },
  {
   "cell_type": "code",
   "execution_count": 6,
   "metadata": {},
   "outputs": [],
   "source": [
    "#####my old svm function\n",
    "import numpy as np\n",
    "class SVM:\n",
    "    def __init__(self,C):\n",
    "        self.C=C\n",
    "        self.W=0\n",
    "        self.B=0\n",
    "    def hingeloss(self,w,b,X,Y):\n",
    "        loss=0\n",
    "        loss+=0.5*np.dot(w,w.T)\n",
    "        for i in range(X.shape[0]):\n",
    "            ti=Y[i]*(np.dot(w,X[i].T)+b)\n",
    "            loss+=self.C*(max(0,1-ti))\n",
    "        return loss[0][0]\n",
    "    ##my hinge loss function is ready!\n",
    "    def fit(self,X,Y,batch_size=100,lr=0.001,maxItr=500):\n",
    "        no_of_features=X.shape[1]\n",
    "        no_of_samples=X.shape[0]\n",
    "        n=lr\n",
    "        c=self.C\n",
    "        w=np.zeros((1,no_of_features))\n",
    "        bias=0\n",
    "        losses=[]\n",
    "        for i in range(maxItr):\n",
    "            l=self.hingeloss(w,bias,X,Y)\n",
    "            losses.append(l)\n",
    "            ids=np.arange(no_of_samples)\n",
    "            np.random.shuffle(ids)\n",
    "            for batch_start in range(0,no_of_samples,batch_size):\n",
    "                gradw=0;\n",
    "                gradb=0;\n",
    "                for j in range(batch_start,batch_start+batch_size):\n",
    "                    if j < no_of_samples:\n",
    "                        i=ids[j]\n",
    "                        ti=Y[i]*(np.dot(w,X[i].T)+bias)\n",
    "                        if ti>1:\n",
    "                            gradw+=0;\n",
    "                            gradb+=0\n",
    "                        else:\n",
    "                            gradw+=c*Y[i]*X[i]\n",
    "                            gradb+=c*Y[i]\n",
    "                w=w-n*w+n*gradw;\n",
    "                bias=bias+n*gradb\n",
    "        self.w=w\n",
    "        self.b=bias\n",
    "        return w,bias,losses\n",
    "   "
   ]
  },
  {
   "cell_type": "code",
   "execution_count": 7,
   "metadata": {},
   "outputs": [],
   "source": [
    "### function to get data for pair of classes need by our one vs one algo\n",
    "M=image_data.shape[0]\n",
    "image_data=image_data.reshape(M,-1)\n",
    "classes=np.unique(labels).shape[0]\n",
    "def getdatapairsvm(d1,d2): \n",
    "    l1,l2=d1.shape[0],d2.shape[0]\n",
    "    samples=l1+l2\n",
    "    features=d1.shape[1]\n",
    "    data_pair=np.zeros((samples,features))\n",
    "    data_labels=np.zeros((samples,))\n",
    "    data_pair[:l1]=d1\n",
    "    data_pair[l1:]=d2\n",
    "    data_labels[:l1]=-1\n",
    "    data_labels[l1:]=+1\n",
    "    return data_pair,data_labels"
   ]
  },
  {
   "cell_type": "code",
   "execution_count": 8,
   "metadata": {},
   "outputs": [
    {
     "name": "stderr",
     "output_type": "stream",
     "text": [
      "C:\\Users\\kip31\\AppData\\Roaming\\Python\\Python37\\site-packages\\ipykernel_launcher.py:11: VisibleDeprecationWarning: Creating an ndarray from ragged nested sequences (which is a list-or-tuple of lists-or-tuples-or ndarrays with different lengths or shapes) is deprecated. If you meant to do this, you must specify 'dtype=object' when creating the ndarray\n",
      "  # This is added back by InteractiveShellApp.init_path()\n"
     ]
    }
   ],
   "source": [
    "#function to get data in the form like data[i]=all images for label 1 since we need it for pair of images part\n",
    "def classwisedata(X,Y):\n",
    "    data=[None] * classes\n",
    "    for i in range(classes):\n",
    "        data[i]=[]\n",
    "    for i in range(X.shape[0]):\n",
    "        data[int(Y[i])].append(X[i])\n",
    "    for k in range(classes):\n",
    "        data[k]=np.array(data[k])\n",
    "        \n",
    "    return np.array(data)\n",
    "data=classwisedata(image_data,labels)\n"
   ]
  },
  {
   "cell_type": "code",
   "execution_count": 9,
   "metadata": {},
   "outputs": [],
   "source": [
    "def trainsvm(X,Y):\n",
    "    svm_classifier=[None] * classes\n",
    "    for i in range(classes):\n",
    "        svm_classifier[i]={}\n",
    "        for j in range(i+1,classes):\n",
    "            x_pair,y_pair=getdatapairsvm(data[i],data[j])\n",
    "            w,b,loss=mySVM.fit(x_pair,y_pair,int(50),0.0000001,1000)\n",
    "            plt.plot(loss)\n",
    "            #print(loss)\n",
    "            plt.show()\n",
    "            svm_classifier[i][j]=(w,b)\n",
    "    return svm_classifier\n"
   ]
  },
  {
   "cell_type": "code",
   "execution_count": 10,
   "metadata": {},
   "outputs": [
    {
     "data": {
      "image/png": "[encoded data removed]",
      "text/plain": [
       "<Figure size 432x288 with 1 Axes>"
      ]
     },
     "metadata": {
      "needs_background": "light"
     },
     "output_type": "display_data"
    },
    {
     "data": {
      "image/png": "[encoded data removed]",
      "text/plain": [
       "<Figure size 432x288 with 1 Axes>"
      ]
     },
     "metadata": {
      "needs_background": "light"
     },
     "output_type": "display_data"
    },
    {
     "data": {
      "image/png": "[encoded data removed]",
      "text/plain": [
       "<Figure size 432x288 with 1 Axes>"
      ]
     },
     "metadata": {
      "needs_background": "light"
     },
     "output_type": "display_data"
    }
   ],
   "source": [
    "mySVM=SVM(1.0)    \n",
    "svm_classifier=trainsvm(image_data,labels)"
   ]
  },
  {
   "cell_type": "code",
   "execution_count": 11,
   "metadata": {},
   "outputs": [],
   "source": [
    "def binary_predict(x,w,b):\n",
    "    \n",
    "    z=np.dot(x,w.T)+b\n",
    "    if(z>=0):\n",
    "        return 1\n",
    "    else:\n",
    "        return -1\n",
    "    "
   ]
  },
  {
   "cell_type": "code",
   "execution_count": 12,
   "metadata": {},
   "outputs": [],
   "source": [
    "def predict(x):\n",
    "    count=np.zeros((classes,))\n",
    "    for i in range(classes):\n",
    "        for j in range(i+1,classes):\n",
    "            w,b=svm_classifier[i][j]\n",
    "            \n",
    "            z=binary_predict(x,w,b)\n",
    "            if(z==1):\n",
    "                count[j]+=1\n",
    "            else:\n",
    "                count[i]+=1\n",
    "    final_pred=np.argmax(count)\n",
    "    return final_pred\n",
    "\n",
    "    "
   ]
  },
  {
   "cell_type": "code",
   "execution_count": 13,
   "metadata": {},
   "outputs": [
    {
     "data": {
      "text/plain": [
       "1.0"
      ]
     },
     "execution_count": 13,
     "metadata": {},
     "output_type": "execute_result"
    }
   ],
   "source": [
    "def acc(x,y):\n",
    "    count=0\n",
    "    for i in range(x.shape[0]):\n",
    "        pred=predict(x[i])\n",
    "        \n",
    "        if pred==int(y[i]):\n",
    "            count+=1\n",
    "        #print('pridiction ',appo[str(pred)],\" and real is \",appo[str(y[i])])    \n",
    "    return count/x.shape[0]\n",
    "acc(image_data,labels)"
   ]
  },
  {
   "cell_type": "code",
   "execution_count": 14,
   "metadata": {},
   "outputs": [],
   "source": [
    "image_test_data=[]\n",
    "img_names=[]\n",
    "p=Path(\"data/Test/Images\")\n",
    "for img_path in list(p.glob('*.jpg')):\n",
    "    img_name=str(img_path).split('\\\\')[-1]\n",
    "    img=cv2.imread(str(img_path),cv2.COLOR_BGR2RGB)\n",
    "    img=cv2.resize(img,(40,40))\n",
    "    img=np.array(img)\n",
    "    if len(img.shape)<3:\n",
    "        t=np.zeros((img.shape[0],img.shape[0],3))\n",
    "        t[:,:,0]=img[:,:]\n",
    "        t[:,:,1]=img[:,:]\n",
    "        t[:,:,2]=img[:,:]\n",
    "        img=t\n",
    "    img=list(img)   \n",
    "    image_test_data.append(img)\n",
    "    img_names.append(img_name)\n",
    "#cv2.imshow('image',img)\n",
    "#img=np.array(img)\n",
    "#img.shape"
   ]
  },
  {
   "cell_type": "code",
   "execution_count": 15,
   "metadata": {},
   "outputs": [],
   "source": [
    "image_test_data=np.array(image_test_data)\n",
    "img_names=np.array(img_names)\n",
    "M=image_test_data.shape[0]\n",
    "image_test_data=image_test_data.reshape(M,-1)  "
   ]
  },
  {
   "cell_type": "code",
   "execution_count": 37,
   "metadata": {},
   "outputs": [],
   "source": [
    "index_to_names={}\n",
    "for i in range(classes):\n",
    "    index_to_names.update({str(i):str(classes_name[i])})  \n",
    "\n",
    "def predictcsv(x,y):\n",
    "    disc={}    \n",
    "    for i in range(x.shape[0]):\n",
    "        pred=predict(x[i])\n",
    "        pred=str(pred)\n",
    "      \n",
    "        disc.update({str(y[i]):str(index_to_names[pred])})\n",
    "    return disc\n",
    "disc=predictcsv(image_test_data,img_names)       \n"
   ]
  },
  {
   "cell_type": "code",
   "execution_count": 40,
   "metadata": {},
   "outputs": [],
   "source": [
    "df=pd.read_csv('data/Test/test.csv')\n",
    "nd=df.values"
   ]
  },
  {
   "cell_type": "code",
   "execution_count": 49,
   "metadata": {},
   "outputs": [],
   "source": [
    "header='ImageId,NameOfPokemon\\n'\n",
    "with open('mynew.csv','w+') as file:\n",
    "    file.write(header)\n",
    "    for i in nd:\n",
    "        file.write(i[0])\n",
    "        file.write(',')\n",
    "        file.write(disc[i[0]])\n",
    "        file.write('\\n')\n",
    "        "
   ]
  },
  {
   "cell_type": "code",
   "execution_count": 56,
   "metadata": {},
   "outputs": [],
   "source": [
    "dp=pd.read_csv('mynew.csv')"
   ]
  },
  {
   "cell_type": "code",
   "execution_count": 57,
   "metadata": {},
   "outputs": [
    {
     "data": {
      "text/html": [
       "<div>\n",
       "<style scoped>\n",
       "    .dataframe tbody tr th:only-of-type {\n",
       "        vertical-align: middle;\n",
       "    }\n",
       "\n",
       "    .dataframe tbody tr th {\n",
       "        vertical-align: top;\n",
       "    }\n",
       "\n",
       "    .dataframe thead th {\n",
       "        text-align: right;\n",
       "    }\n",
       "</style>\n",
       "<table border=\"1\" class=\"dataframe\">\n",
       "  <thead>\n",
       "    <tr style=\"text-align: right;\">\n",
       "      <th></th>\n",
       "      <th>ImageId</th>\n",
       "      <th>NameOfPokemon</th>\n",
       "    </tr>\n",
       "  </thead>\n",
       "  <tbody>\n",
       "    <tr>\n",
       "      <th>0</th>\n",
       "      <td>1106.jpg</td>\n",
       "      <td>Bulbasaur</td>\n",
       "    </tr>\n",
       "    <tr>\n",
       "      <th>1</th>\n",
       "      <td>2236.jpg</td>\n",
       "      <td>Charmander</td>\n",
       "    </tr>\n",
       "    <tr>\n",
       "      <th>2</th>\n",
       "      <td>1131.jpg</td>\n",
       "      <td>Bulbasaur</td>\n",
       "    </tr>\n",
       "    <tr>\n",
       "      <th>3</th>\n",
       "      <td>2221.jpg</td>\n",
       "      <td>Charmander</td>\n",
       "    </tr>\n",
       "    <tr>\n",
       "      <th>4</th>\n",
       "      <td>2011.jpg</td>\n",
       "      <td>Pikachu</td>\n",
       "    </tr>\n",
       "  </tbody>\n",
       "</table>\n",
       "</div>"
      ],
      "text/plain": [
       "    ImageId NameOfPokemon\n",
       "0  1106.jpg     Bulbasaur\n",
       "1  2236.jpg    Charmander\n",
       "2  1131.jpg     Bulbasaur\n",
       "3  2221.jpg    Charmander\n",
       "4  2011.jpg       Pikachu"
      ]
     },
     "execution_count": 57,
     "metadata": {},
     "output_type": "execute_result"
    }
   ],
   "source": [
    "dp.head()"
   ]
  },
  {
   "cell_type": "code",
   "execution_count": 55,
   "metadata": {},
   "outputs": [
    {
     "data": {
      "text/plain": [
       "array([['1106.jpg', 'Bulbasaur'],\n",
       "       ['2236.jpg', 'Charmander'],\n",
       "       ['1131.jpg', 'Bulbasaur'],\n",
       "       ['2221.jpg', 'Charmander'],\n",
       "       ['2011.jpg', 'Pikachu'],\n",
       "       ['2030.jpg', 'Pikachu'],\n",
       "       ['2035.jpg', 'Pikachu'],\n",
       "       ['1110.jpg', 'Bulbasaur'],\n",
       "       ['1104.jpg', 'Bulbasaur'],\n",
       "       ['2217.jpg', 'Charmander'],\n",
       "       ['1111.jpg', 'Bulbasaur'],\n",
       "       ['1100.jpg', 'Bulbasaur'],\n",
       "       ['1112.jpg', 'Bulbasaur'],\n",
       "       ['1138.jpg', 'Bulbasaur'],\n",
       "       ['2238.jpg', 'Charmander'],\n",
       "       ['2009.jpg', 'Bulbasaur'],\n",
       "       ['2225.jpg', 'Charmander'],\n",
       "       ['2240.jpg', 'Charmander'],\n",
       "       ['2020.jpg', 'Pikachu'],\n",
       "       ['2209.jpg', 'Charmander'],\n",
       "       ['2029.jpg', 'Pikachu'],\n",
       "       ['1114.jpg', 'Bulbasaur'],\n",
       "       ['2201.jpg', 'Charmander'],\n",
       "       ['1118.jpg', 'Bulbasaur'],\n",
       "       ['2025.jpg', 'Pikachu'],\n",
       "       ['2202.jpg', 'Charmander'],\n",
       "       ['1117.jpg', 'Bulbasaur'],\n",
       "       ['1119.jpg', 'Bulbasaur'],\n",
       "       ['2000.jpg', 'Pikachu'],\n",
       "       ['2007.jpg', 'Pikachu'],\n",
       "       ['2039.jpg', 'Pikachu'],\n",
       "       ['2017.jpg', 'Pikachu'],\n",
       "       ['2215.jpg', 'Charmander'],\n",
       "       ['1120.jpg', 'Bulbasaur'],\n",
       "       ['2006.jpg', 'Pikachu'],\n",
       "       ['1116.jpg', 'Bulbasaur'],\n",
       "       ['1128.jpg', 'Bulbasaur'],\n",
       "       ['1125.jpg', 'Bulbasaur'],\n",
       "       ['2203.jpg', 'Charmander'],\n",
       "       ['1133.jpg', 'Bulbasaur'],\n",
       "       ['1137.jpg', 'Bulbasaur'],\n",
       "       ['2220.jpg', 'Charmander'],\n",
       "       ['2012.jpg', 'Pikachu'],\n",
       "       ['2224.jpg', 'Charmander'],\n",
       "       ['2206.jpg', 'Charmander'],\n",
       "       ['1122.jpg', 'Bulbasaur'],\n",
       "       ['2223.jpg', 'Charmander'],\n",
       "       ['1102.jpg', 'Bulbasaur'],\n",
       "       ['2234.jpg', 'Charmander'],\n",
       "       ['2216.jpg', 'Charmander'],\n",
       "       ['2016.jpg', 'Pikachu'],\n",
       "       ['2227.jpg', 'Charmander'],\n",
       "       ['2013.jpg', 'Pikachu'],\n",
       "       ['1113.jpg', 'Bulbasaur'],\n",
       "       ['2204.jpg', 'Charmander'],\n",
       "       ['1101.jpg', 'Bulbasaur'],\n",
       "       ['2208.jpg', 'Charmander'],\n",
       "       ['2024.jpg', 'Pikachu'],\n",
       "       ['2031.jpg', 'Pikachu'],\n",
       "       ['2222.jpg', 'Charmander'],\n",
       "       ['2211.jpg', 'Charmander'],\n",
       "       ['2033.jpg', 'Pikachu'],\n",
       "       ['2213.jpg', 'Charmander'],\n",
       "       ['2231.jpg', 'Charmander'],\n",
       "       ['2001.jpg', 'Pikachu'],\n",
       "       ['2040.jpg', 'Pikachu'],\n",
       "       ['1127.jpg', 'Bulbasaur'],\n",
       "       ['2023.jpg', 'Charmander'],\n",
       "       ['2015.jpg', 'Pikachu'],\n",
       "       ['1121.jpg', 'Bulbasaur'],\n",
       "       ['2232.jpg', 'Charmander'],\n",
       "       ['1139.jpg', 'Bulbasaur'],\n",
       "       ['1103.jpg', 'Bulbasaur'],\n",
       "       ['2018.jpg', 'Pikachu'],\n",
       "       ['2233.jpg', 'Charmander'],\n",
       "       ['2212.jpg', 'Charmander'],\n",
       "       ['2210.jpg', 'Charmander'],\n",
       "       ['2228.jpg', 'Charmander'],\n",
       "       ['2026.jpg', 'Pikachu'],\n",
       "       ['1132.jpg', 'Bulbasaur'],\n",
       "       ['2003.jpg', 'Pikachu'],\n",
       "       ['1129.jpg', 'Bulbasaur'],\n",
       "       ['2214.jpg', 'Charmander'],\n",
       "       ['1123.jpg', 'Bulbasaur'],\n",
       "       ['2004.jpg', 'Pikachu'],\n",
       "       ['1136.jpg', 'Bulbasaur'],\n",
       "       ['1140.jpg', 'Bulbasaur'],\n",
       "       ['2226.jpg', 'Charmander'],\n",
       "       ['2230.jpg', 'Charmander'],\n",
       "       ['1135.jpg', 'Bulbasaur'],\n",
       "       ['1105.jpg', 'Bulbasaur'],\n",
       "       ['2237.jpg', 'Charmander'],\n",
       "       ['1109.jpg', 'Bulbasaur'],\n",
       "       ['2022.jpg', 'Pikachu'],\n",
       "       ['2005.jpg', 'Pikachu'],\n",
       "       ['2218.jpg', 'Charmander'],\n",
       "       ['2036.jpg', 'Pikachu'],\n",
       "       ['1115.jpg', 'Bulbasaur'],\n",
       "       ['2032.jpg', 'Pikachu'],\n",
       "       ['2200.jpg', 'Charmander'],\n",
       "       ['1134.jpg', 'Bulbasaur'],\n",
       "       ['1130.jpg', 'Bulbasaur'],\n",
       "       ['1107.jpg', 'Bulbasaur'],\n",
       "       ['2034.jpg', 'Pikachu'],\n",
       "       ['2205.jpg', 'Charmander'],\n",
       "       ['2008.jpg', 'Pikachu'],\n",
       "       ['2027.jpg', 'Pikachu'],\n",
       "       ['2028.jpg', 'Pikachu'],\n",
       "       ['2239.jpg', 'Charmander'],\n",
       "       ['1108.jpg', 'Bulbasaur'],\n",
       "       ['2010.jpg', 'Pikachu'],\n",
       "       ['2229.jpg', 'Charmander'],\n",
       "       ['2219.jpg', 'Charmander'],\n",
       "       ['2019.jpg', 'Charmander'],\n",
       "       ['2207.jpg', 'Charmander'],\n",
       "       ['2002.jpg', 'Pikachu'],\n",
       "       ['2037.jpg', 'Pikachu'],\n",
       "       ['2038.jpg', 'Pikachu'],\n",
       "       ['1124.jpg', 'Bulbasaur'],\n",
       "       ['2014.jpg', 'Pikachu'],\n",
       "       ['2235.jpg', 'Charmander'],\n",
       "       ['1126.jpg', 'Bulbasaur'],\n",
       "       ['2021.jpg', 'Pikachu']], dtype=object)"
      ]
     },
     "execution_count": 55,
     "metadata": {},
     "output_type": "execute_result"
    }
   ],
   "source": []
  },
  {
   "cell_type": "code",
   "execution_count": null,
   "metadata": {},
   "outputs": [],
   "source": []
  }
 ],
 "metadata": {
  "kernelspec": {
   "display_name": "Python 3",
   "language": "python",
   "name": "python3"
  },
  "language_info": {
   "codemirror_mode": {
    "name": "ipython",
    "version": 3
   },
   "file_extension": ".py",
   "mimetype": "text/x-python",
   "name": "python",
   "nbconvert_exporter": "python",
   "pygments_lexer": "ipython3",
   "version": "3.7.8"
  }
 },
 "nbformat": 4,
 "nbformat_minor": 4
}
