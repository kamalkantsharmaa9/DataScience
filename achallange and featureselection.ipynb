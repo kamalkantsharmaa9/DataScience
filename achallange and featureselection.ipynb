{
 "cells": [
  {
   "cell_type": "code",
   "execution_count": 1,
   "metadata": {},
   "outputs": [],
   "source": [
    "import numpy as np\n",
    "import pandas as pd\n",
    "import matplotlib.pyplot as plt\n",
    "def sigmoid(x):\n",
    "    return 1.0/(1.0+np.exp(-x))\n",
    "def hypothesis(X,theta):\n",
    "    return sigmoid(np.dot(X,theta))\n",
    "def error(X,Y,theta):\n",
    "    h=hypothesis(X,theta)\n",
    "    error=Y*(np.log(h))+(1-Y)*(np.log(1-h))\n",
    "    fin_error=-1*np.mean(error)\n",
    "    return fin_error\n",
    "def gradient(X,Y,theta):\n",
    "    h=hypothesis(X,theta)\n",
    "    h=h.reshape((-1,1))\n",
    "    grad=np.dot(X.T,(Y-h))\n",
    "    m=X.shape[0]\n",
    "    return grad/m\n",
    "def gradientDescent(X,Y,lr=0.9,max_iter=1000):\n",
    "    m,n=X.shape\n",
    "    theta=np.zeros((n,1))\n",
    "    error_list=[]\n",
    "    for i in range(max_iter):\n",
    "        err=error(X,Y,theta)\n",
    "        error_list.append(err)\n",
    "        grad=gradient(X,Y,theta)\n",
    "        theta=theta+lr*grad\n",
    "    return theta,error_list"
   ]
  },
  {
   "cell_type": "code",
   "execution_count": 2,
   "metadata": {
    "scrolled": true
   },
   "outputs": [
    {
     "name": "stdout",
     "output_type": "stream",
     "text": [
      "(3000, 3)\n"
     ]
    },
    {
     "data": {
      "image/png": "[encoded data removed]",
      "text/plain": [
       "<Figure size 432x288 with 1 Axes>"
      ]
     },
     "metadata": {
      "needs_background": "light"
     },
     "output_type": "display_data"
    },
    {
     "name": "stdout",
     "output_type": "stream",
     "text": [
      "[[-1.25380046]\n",
      " [-5.29355081]\n",
      " [ 3.29390882]\n",
      " [-2.92203231]]\n"
     ]
    }
   ],
   "source": [
    "X_train=pd.read_csv(\"Logistic_X_Train.csv\")\n",
    "Y_train=pd.read_csv(\"Logistic_Y_Train.csv\")\n",
    "X_train=X_train.values\n",
    "Y_train=Y_train.values\n",
    "print(X_train.shape)\n",
    "x_mean=X_train.mean(axis=0)\n",
    "x_std=X_train.std(axis=0)\n",
    "X_train=(X_train-x_mean)/x_std\n",
    "one=np.ones((X_train.shape[0],1))\n",
    "X_train=np.hstack((one,X_train))\n",
    "theta,error_list=gradientDescent(X_train,Y_train)\n",
    "plt.plot(error_list)\n",
    "plt.show()\n",
    "print(theta)\n",
    "X_test=pd.read_csv(\"Logistic_X_Test.csv\")\n",
    "X_test=X_test.values\n",
    "X_test=(X_test-x_mean)/x_std\n",
    "one=np.ones((X_test.shape[0],1))\n",
    "X_test=np.hstack((one,X_test))\n"
   ]
  },
  {
   "cell_type": "code",
   "execution_count": null,
   "metadata": {},
   "outputs": [],
   "source": []
  },
  {
   "cell_type": "code",
   "execution_count": 3,
   "metadata": {},
   "outputs": [
    {
     "name": "stdout",
     "output_type": "stream",
     "text": [
      "99.53333333333333\n"
     ]
    },
    {
     "data": {
      "text/html": [
       "<div>\n",
       "<style scoped>\n",
       "    .dataframe tbody tr th:only-of-type {\n",
       "        vertical-align: middle;\n",
       "    }\n",
       "\n",
       "    .dataframe tbody tr th {\n",
       "        vertical-align: top;\n",
       "    }\n",
       "\n",
       "    .dataframe thead th {\n",
       "        text-align: right;\n",
       "    }\n",
       "</style>\n",
       "<table border=\"1\" class=\"dataframe\">\n",
       "  <thead>\n",
       "    <tr style=\"text-align: right;\">\n",
       "      <th></th>\n",
       "      <th>lable</th>\n",
       "    </tr>\n",
       "  </thead>\n",
       "  <tbody>\n",
       "    <tr>\n",
       "      <th>0</th>\n",
       "      <td>1</td>\n",
       "    </tr>\n",
       "    <tr>\n",
       "      <th>1</th>\n",
       "      <td>1</td>\n",
       "    </tr>\n",
       "    <tr>\n",
       "      <th>2</th>\n",
       "      <td>1</td>\n",
       "    </tr>\n",
       "    <tr>\n",
       "      <th>3</th>\n",
       "      <td>0</td>\n",
       "    </tr>\n",
       "    <tr>\n",
       "      <th>4</th>\n",
       "      <td>0</td>\n",
       "    </tr>\n",
       "  </tbody>\n",
       "</table>\n",
       "</div>"
      ],
      "text/plain": [
       "  lable\n",
       "0     1\n",
       "1     1\n",
       "2     1\n",
       "3     0\n",
       "4     0"
      ]
     },
     "execution_count": 3,
     "metadata": {},
     "output_type": "execute_result"
    }
   ],
   "source": [
    "def predict(X,theta):\n",
    "        x=hypothesis(X,theta)\n",
    "        output=np.zeros((x.shape[0],1))\n",
    "        output[x>0.5]=1\n",
    "        output=output.astype('int')\n",
    "        return output\n",
    "def accuracy(actual,pred):\n",
    "    actual=actual.astype('int')\n",
    "    actual=actual.reshape((-1,1))\n",
    "    \n",
    "    ans=np.sum(actual==pred)/actual.shape[0]\n",
    "    return ans*100\n",
    "xtrainpred=predict(X_train,theta)\n",
    "acc=accuracy(Y_train,xtrainpred)\n",
    "xtestpred=predict(X_test,theta)\n",
    "\n",
    "print(acc)\n",
    "\n",
    "with open(\"myfile2.csv\",\"r+\") as file:\n",
    "    file.write(\"lable\\n\")\n",
    "    for i in xtrainpred:\n",
    "        file.write(str(int(i)))\n",
    "        file.write('\\n')\n",
    "df=pd.read_csv(\"myfile2.csv\")\n",
    "df.head(n=5)"
   ]
  },
  {
   "cell_type": "code",
   "execution_count": 4,
   "metadata": {},
   "outputs": [
    {
     "ename": "ModuleNotFoundError",
     "evalue": "No module named 'sklearn.lenear_model'",
     "output_type": "error",
     "traceback": [
      "\u001b[1;31m---------------------------------------------------------------------------\u001b[0m",
      "\u001b[1;31mModuleNotFoundError\u001b[0m                       Traceback (most recent call last)",
      "\u001b[1;32m<ipython-input-4-c1b655a95518>\u001b[0m in \u001b[0;36m<module>\u001b[1;34m\u001b[0m\n\u001b[1;32m----> 1\u001b[1;33m \u001b[1;32mfrom\u001b[0m \u001b[0msklearn\u001b[0m\u001b[1;33m.\u001b[0m\u001b[0mlenear_model\u001b[0m \u001b[1;32mimport\u001b[0m \u001b[0mLogisticRegression\u001b[0m\u001b[1;33m\u001b[0m\u001b[1;33m\u001b[0m\u001b[0m\n\u001b[0m\u001b[0;32m      2\u001b[0m \u001b[0mmodel\u001b[0m\u001b[1;33m=\u001b[0m\u001b[0mLogisticRegression\u001b[0m\u001b[1;33m(\u001b[0m\u001b[1;33m)\u001b[0m\u001b[1;33m\u001b[0m\u001b[1;33m\u001b[0m\u001b[0m\n\u001b[0;32m      3\u001b[0m \u001b[0mmodel\u001b[0m\u001b[1;33m.\u001b[0m\u001b[0mfit\u001b[0m\u001b[1;33m(\u001b[0m\u001b[0mX_train\u001b[0m\u001b[1;33m,\u001b[0m\u001b[0mY_train\u001b[0m\u001b[1;33m)\u001b[0m\u001b[1;33m\u001b[0m\u001b[1;33m\u001b[0m\u001b[0m\n\u001b[0;32m      4\u001b[0m \u001b[0mtheta_0\u001b[0m\u001b[1;33m=\u001b[0m\u001b[0mmodel\u001b[0m\u001b[1;33m.\u001b[0m\u001b[0mintercept_\u001b[0m\u001b[1;33m\u001b[0m\u001b[1;33m\u001b[0m\u001b[0m\n\u001b[0;32m      5\u001b[0m \u001b[0mtheta_s\u001b[0m\u001b[1;33m=\u001b[0m\u001b[0mmodel\u001b[0m\u001b[1;33m.\u001b[0m\u001b[0mcoef_\u001b[0m\u001b[1;33m\u001b[0m\u001b[1;33m\u001b[0m\u001b[0m\n",
      "\u001b[1;31mModuleNotFoundError\u001b[0m: No module named 'sklearn.lenear_model'"
     ]
    }
   ],
   "source": [
    "from sklearn.lenear_model import LogisticRegression\n",
    "model=LogisticRegression()\n",
    "model.fit(X_train,Y_train)\n",
    "theta_0=model.intercept_\n",
    "theta_s=model.coef_\n",
    "print(theta_0,theta_s)\n"
   ]
  },
  {
   "cell_type": "code",
   "execution_count": 5,
   "metadata": {},
   "outputs": [],
   "source": [
    "from sklearn.feature_selection import chi2\n",
    "from sklearn.feature_selection import SelectKBest\n",
    "import pandas as pd"
   ]
  },
  {
   "cell_type": "code",
   "execution_count": 6,
   "metadata": {},
   "outputs": [
    {
     "data": {
      "text/html": [
       "<div>\n",
       "<style scoped>\n",
       "    .dataframe tbody tr th:only-of-type {\n",
       "        vertical-align: middle;\n",
       "    }\n",
       "\n",
       "    .dataframe tbody tr th {\n",
       "        vertical-align: top;\n",
       "    }\n",
       "\n",
       "    .dataframe thead th {\n",
       "        text-align: right;\n",
       "    }\n",
       "</style>\n",
       "<table border=\"1\" class=\"dataframe\">\n",
       "  <thead>\n",
       "    <tr style=\"text-align: right;\">\n",
       "      <th></th>\n",
       "      <th>battery_power</th>\n",
       "      <th>blue</th>\n",
       "      <th>clock_speed</th>\n",
       "      <th>dual_sim</th>\n",
       "      <th>fc</th>\n",
       "      <th>four_g</th>\n",
       "      <th>int_memory</th>\n",
       "      <th>m_dep</th>\n",
       "      <th>mobile_wt</th>\n",
       "      <th>n_cores</th>\n",
       "      <th>...</th>\n",
       "      <th>px_height</th>\n",
       "      <th>px_width</th>\n",
       "      <th>ram</th>\n",
       "      <th>sc_h</th>\n",
       "      <th>sc_w</th>\n",
       "      <th>talk_time</th>\n",
       "      <th>three_g</th>\n",
       "      <th>touch_screen</th>\n",
       "      <th>wifi</th>\n",
       "      <th>price_range</th>\n",
       "    </tr>\n",
       "  </thead>\n",
       "  <tbody>\n",
       "    <tr>\n",
       "      <th>0</th>\n",
       "      <td>842</td>\n",
       "      <td>0</td>\n",
       "      <td>2.2</td>\n",
       "      <td>0</td>\n",
       "      <td>1</td>\n",
       "      <td>0</td>\n",
       "      <td>7</td>\n",
       "      <td>0.6</td>\n",
       "      <td>188</td>\n",
       "      <td>2</td>\n",
       "      <td>...</td>\n",
       "      <td>20</td>\n",
       "      <td>756</td>\n",
       "      <td>2549</td>\n",
       "      <td>9</td>\n",
       "      <td>7</td>\n",
       "      <td>19</td>\n",
       "      <td>0</td>\n",
       "      <td>0</td>\n",
       "      <td>1</td>\n",
       "      <td>1</td>\n",
       "    </tr>\n",
       "  </tbody>\n",
       "</table>\n",
       "<p>1 rows × 21 columns</p>\n",
       "</div>"
      ],
      "text/plain": [
       "   battery_power  blue  clock_speed  dual_sim  fc  four_g  int_memory  m_dep  \\\n",
       "0            842     0          2.2         0   1       0           7    0.6   \n",
       "\n",
       "   mobile_wt  n_cores  ...  px_height  px_width   ram  sc_h  sc_w  talk_time  \\\n",
       "0        188        2  ...         20       756  2549     9     7         19   \n",
       "\n",
       "   three_g  touch_screen  wifi  price_range  \n",
       "0        0             0     1            1  \n",
       "\n",
       "[1 rows x 21 columns]"
      ]
     },
     "execution_count": 6,
     "metadata": {},
     "output_type": "execute_result"
    }
   ],
   "source": [
    "df=pd.read_csv(\"train.csv\")\n",
    "df.head(n=1)\n"
   ]
  },
  {
   "cell_type": "code",
   "execution_count": 7,
   "metadata": {},
   "outputs": [
    {
     "data": {
      "text/html": [
       "<div>\n",
       "<style scoped>\n",
       "    .dataframe tbody tr th:only-of-type {\n",
       "        vertical-align: middle;\n",
       "    }\n",
       "\n",
       "    .dataframe tbody tr th {\n",
       "        vertical-align: top;\n",
       "    }\n",
       "\n",
       "    .dataframe thead th {\n",
       "        text-align: right;\n",
       "    }\n",
       "</style>\n",
       "<table border=\"1\" class=\"dataframe\">\n",
       "  <thead>\n",
       "    <tr style=\"text-align: right;\">\n",
       "      <th></th>\n",
       "      <th>ram</th>\n",
       "      <th>px_height</th>\n",
       "      <th>battery_power</th>\n",
       "      <th>px_width</th>\n",
       "      <th>mobile_wt</th>\n",
       "      <th>int_memory</th>\n",
       "      <th>sc_w</th>\n",
       "      <th>talk_time</th>\n",
       "      <th>fc</th>\n",
       "      <th>sc_h</th>\n",
       "    </tr>\n",
       "  </thead>\n",
       "  <tbody>\n",
       "    <tr>\n",
       "      <th>0</th>\n",
       "      <td>2549</td>\n",
       "      <td>20</td>\n",
       "      <td>842</td>\n",
       "      <td>756</td>\n",
       "      <td>188</td>\n",
       "      <td>7</td>\n",
       "      <td>7</td>\n",
       "      <td>19</td>\n",
       "      <td>1</td>\n",
       "      <td>9</td>\n",
       "    </tr>\n",
       "    <tr>\n",
       "      <th>1</th>\n",
       "      <td>2631</td>\n",
       "      <td>905</td>\n",
       "      <td>1021</td>\n",
       "      <td>1988</td>\n",
       "      <td>136</td>\n",
       "      <td>53</td>\n",
       "      <td>3</td>\n",
       "      <td>7</td>\n",
       "      <td>0</td>\n",
       "      <td>17</td>\n",
       "    </tr>\n",
       "    <tr>\n",
       "      <th>2</th>\n",
       "      <td>2603</td>\n",
       "      <td>1263</td>\n",
       "      <td>563</td>\n",
       "      <td>1716</td>\n",
       "      <td>145</td>\n",
       "      <td>41</td>\n",
       "      <td>2</td>\n",
       "      <td>9</td>\n",
       "      <td>2</td>\n",
       "      <td>11</td>\n",
       "    </tr>\n",
       "    <tr>\n",
       "      <th>3</th>\n",
       "      <td>2769</td>\n",
       "      <td>1216</td>\n",
       "      <td>615</td>\n",
       "      <td>1786</td>\n",
       "      <td>131</td>\n",
       "      <td>10</td>\n",
       "      <td>8</td>\n",
       "      <td>11</td>\n",
       "      <td>0</td>\n",
       "      <td>16</td>\n",
       "    </tr>\n",
       "    <tr>\n",
       "      <th>4</th>\n",
       "      <td>1411</td>\n",
       "      <td>1208</td>\n",
       "      <td>1821</td>\n",
       "      <td>1212</td>\n",
       "      <td>141</td>\n",
       "      <td>44</td>\n",
       "      <td>2</td>\n",
       "      <td>15</td>\n",
       "      <td>13</td>\n",
       "      <td>8</td>\n",
       "    </tr>\n",
       "  </tbody>\n",
       "</table>\n",
       "</div>"
      ],
      "text/plain": [
       "    ram  px_height  battery_power  px_width  mobile_wt  int_memory  sc_w  \\\n",
       "0  2549         20            842       756        188           7     7   \n",
       "1  2631        905           1021      1988        136          53     3   \n",
       "2  2603       1263            563      1716        145          41     2   \n",
       "3  2769       1216            615      1786        131          10     8   \n",
       "4  1411       1208           1821      1212        141          44     2   \n",
       "\n",
       "   talk_time  fc  sc_h  \n",
       "0         19   1     9  \n",
       "1          7   0    17  \n",
       "2          9   2    11  \n",
       "3         11   0    16  \n",
       "4         15  13     8  "
      ]
     },
     "execution_count": 7,
     "metadata": {},
     "output_type": "execute_result"
    }
   ],
   "source": [
    "x=df.iloc[:,:-1]\n",
    "y=df.iloc[:,-1]\n",
    "\n",
    "best_features=SelectKBest(score_func=chi2,k=10)\n",
    "fit=best_features.fit(x,y)\n",
    "dfscore=pd.DataFrame(fit.scores_)\n",
    "dfcolumns=x.columns\n",
    "dfcolumns=pd.DataFrame(dfcolumns)\n",
    "feature_score=pd.concat([dfcolumns,dfscore],axis=1)\n",
    "feature_score.columns=['feature','score']\n",
    "final_features=feature_score.sort_values(by='score',ascending=False).head(n=10)['feature'].values\n",
    "xfin=x[final_features]\n",
    "xfin.head()"
   ]
  },
  {
   "cell_type": "code",
   "execution_count": 8,
   "metadata": {
    "scrolled": true
   },
   "outputs": [
    {
     "data": {
      "image/png": "[encoded data removed]",
      "text/plain": [
       "<Figure size 1440x360 with 1 Axes>"
      ]
     },
     "metadata": {
      "needs_background": "light"
     },
     "output_type": "display_data"
    },
    {
     "data": {
      "text/html": [
       "<div>\n",
       "<style scoped>\n",
       "    .dataframe tbody tr th:only-of-type {\n",
       "        vertical-align: middle;\n",
       "    }\n",
       "\n",
       "    .dataframe tbody tr th {\n",
       "        vertical-align: top;\n",
       "    }\n",
       "\n",
       "    .dataframe thead th {\n",
       "        text-align: right;\n",
       "    }\n",
       "</style>\n",
       "<table border=\"1\" class=\"dataframe\">\n",
       "  <thead>\n",
       "    <tr style=\"text-align: right;\">\n",
       "      <th></th>\n",
       "      <th>importance</th>\n",
       "    </tr>\n",
       "  </thead>\n",
       "  <tbody>\n",
       "    <tr>\n",
       "      <th>ram</th>\n",
       "      <td>0.475060</td>\n",
       "    </tr>\n",
       "    <tr>\n",
       "      <th>battery_power</th>\n",
       "      <td>0.073919</td>\n",
       "    </tr>\n",
       "    <tr>\n",
       "      <th>px_width</th>\n",
       "      <td>0.058286</td>\n",
       "    </tr>\n",
       "    <tr>\n",
       "      <th>px_height</th>\n",
       "      <td>0.055955</td>\n",
       "    </tr>\n",
       "    <tr>\n",
       "      <th>mobile_wt</th>\n",
       "      <td>0.040454</td>\n",
       "    </tr>\n",
       "    <tr>\n",
       "      <th>int_memory</th>\n",
       "      <td>0.036272</td>\n",
       "    </tr>\n",
       "    <tr>\n",
       "      <th>talk_time</th>\n",
       "      <td>0.031525</td>\n",
       "    </tr>\n",
       "    <tr>\n",
       "      <th>pc</th>\n",
       "      <td>0.030235</td>\n",
       "    </tr>\n",
       "    <tr>\n",
       "      <th>sc_w</th>\n",
       "      <td>0.029038</td>\n",
       "    </tr>\n",
       "    <tr>\n",
       "      <th>clock_speed</th>\n",
       "      <td>0.027785</td>\n",
       "    </tr>\n",
       "  </tbody>\n",
       "</table>\n",
       "</div>"
      ],
      "text/plain": [
       "               importance\n",
       "ram              0.475060\n",
       "battery_power    0.073919\n",
       "px_width         0.058286\n",
       "px_height        0.055955\n",
       "mobile_wt        0.040454\n",
       "int_memory       0.036272\n",
       "talk_time        0.031525\n",
       "pc               0.030235\n",
       "sc_w             0.029038\n",
       "clock_speed      0.027785"
      ]
     },
     "execution_count": 8,
     "metadata": {},
     "output_type": "execute_result"
    }
   ],
   "source": [
    "from sklearn.ensemble import RandomForestClassifier\n",
    "import matplotlib.pyplot as plt\n",
    "model=RandomForestClassifier()\n",
    "model.fit(x,y)\n",
    "\n",
    "feature_score=pd.DataFrame(model.feature_importances_,index=x.columns,columns=['importance'])\n",
    "feature_score=feature_score.sort_values(by='importance',ascending=False)\n",
    "\n",
    "plt.figure(figsize=(20, 5))\n",
    "plt.bar(feature_score.index,feature_score['importance'])\n",
    "plt.show()\n",
    "feature_score.head(n=10)\n"
   ]
  },
  {
   "cell_type": "code",
   "execution_count": 9,
   "metadata": {},
   "outputs": [],
   "source": [
    "corr=df.corr()"
   ]
  },
  {
   "cell_type": "code",
   "execution_count": 10,
   "metadata": {},
   "outputs": [
    {
     "name": "stdout",
     "output_type": "stream",
     "text": [
      "               battery_power      blue  clock_speed  dual_sim        fc  \\\n",
      "battery_power       1.000000  0.011252     0.011482 -0.041847  0.033334   \n",
      "blue                0.011252  1.000000     0.021419  0.035198  0.003593   \n",
      "clock_speed         0.011482  0.021419     1.000000 -0.001315 -0.000434   \n",
      "dual_sim           -0.041847  0.035198    -0.001315  1.000000 -0.029123   \n",
      "fc                  0.033334  0.003593    -0.000434 -0.029123  1.000000   \n",
      "four_g              0.015665  0.013443    -0.043073  0.003187 -0.016560   \n",
      "int_memory         -0.004004  0.041177     0.006545 -0.015679 -0.029133   \n",
      "m_dep               0.034085  0.004049    -0.014364 -0.022142 -0.001791   \n",
      "mobile_wt           0.001844 -0.008605     0.012350 -0.008979  0.023618   \n",
      "n_cores            -0.029727  0.036161    -0.005724 -0.024658 -0.013356   \n",
      "pc                  0.031441 -0.009952    -0.005245 -0.017143  0.644595   \n",
      "px_height           0.014901 -0.006872    -0.014523 -0.020875 -0.009990   \n",
      "px_width           -0.008402 -0.041533    -0.009476  0.014291 -0.005176   \n",
      "ram                -0.000653  0.026351     0.003443  0.041072  0.015099   \n",
      "sc_h               -0.029959 -0.002952    -0.029078 -0.011949 -0.011014   \n",
      "sc_w               -0.021421  0.000613    -0.007378 -0.016666 -0.012373   \n",
      "talk_time           0.052510  0.013934    -0.011432 -0.039404 -0.006829   \n",
      "three_g             0.011522 -0.030236    -0.046433 -0.014008  0.001793   \n",
      "touch_screen       -0.010516  0.010061     0.019756 -0.017117 -0.014828   \n",
      "wifi               -0.008343 -0.021863    -0.024471  0.022740  0.020085   \n",
      "price_range         0.200723  0.020573    -0.006606  0.017444  0.021998   \n",
      "\n",
      "                 four_g  int_memory     m_dep  mobile_wt   n_cores  ...  \\\n",
      "battery_power  0.015665   -0.004004  0.034085   0.001844 -0.029727  ...   \n",
      "blue           0.013443    0.041177  0.004049  -0.008605  0.036161  ...   \n",
      "clock_speed   -0.043073    0.006545 -0.014364   0.012350 -0.005724  ...   \n",
      "dual_sim       0.003187   -0.015679 -0.022142  -0.008979 -0.024658  ...   \n",
      "fc            -0.016560   -0.029133 -0.001791   0.023618 -0.013356  ...   \n",
      "four_g         1.000000    0.008690 -0.001823  -0.016537 -0.029706  ...   \n",
      "int_memory     0.008690    1.000000  0.006886  -0.034214 -0.028310  ...   \n",
      "m_dep         -0.001823    0.006886  1.000000   0.021756 -0.003504  ...   \n",
      "mobile_wt     -0.016537   -0.034214  0.021756   1.000000 -0.018989  ...   \n",
      "n_cores       -0.029706   -0.028310 -0.003504  -0.018989  1.000000  ...   \n",
      "pc            -0.005598   -0.033273  0.026282   0.018844 -0.001193  ...   \n",
      "px_height     -0.019236    0.010441  0.025263   0.000939 -0.006872  ...   \n",
      "px_width       0.007448   -0.008335  0.023566   0.000090  0.024480  ...   \n",
      "ram            0.007313    0.032813 -0.009434  -0.002581  0.004868  ...   \n",
      "sc_h           0.027166    0.037771 -0.025348  -0.033855 -0.000315  ...   \n",
      "sc_w           0.037005    0.011731 -0.018388  -0.020761  0.025826  ...   \n",
      "talk_time     -0.046628   -0.002790  0.017003   0.006209  0.013148  ...   \n",
      "three_g        0.584246   -0.009366 -0.012065   0.001551 -0.014733  ...   \n",
      "touch_screen   0.016758   -0.026999 -0.002638  -0.014368  0.023774  ...   \n",
      "wifi          -0.017620    0.006993 -0.028353  -0.000409 -0.009964  ...   \n",
      "price_range    0.014772    0.044435  0.000853  -0.030302  0.004399  ...   \n",
      "\n",
      "               px_height  px_width       ram      sc_h      sc_w  talk_time  \\\n",
      "battery_power   0.014901 -0.008402 -0.000653 -0.029959 -0.021421   0.052510   \n",
      "blue           -0.006872 -0.041533  0.026351 -0.002952  0.000613   0.013934   \n",
      "clock_speed    -0.014523 -0.009476  0.003443 -0.029078 -0.007378  -0.011432   \n",
      "dual_sim       -0.020875  0.014291  0.041072 -0.011949 -0.016666  -0.039404   \n",
      "fc             -0.009990 -0.005176  0.015099 -0.011014 -0.012373  -0.006829   \n",
      "four_g         -0.019236  0.007448  0.007313  0.027166  0.037005  -0.046628   \n",
      "int_memory      0.010441 -0.008335  0.032813  0.037771  0.011731  -0.002790   \n",
      "m_dep           0.025263  0.023566 -0.009434 -0.025348 -0.018388   0.017003   \n",
      "mobile_wt       0.000939  0.000090 -0.002581 -0.033855 -0.020761   0.006209   \n",
      "n_cores        -0.006872  0.024480  0.004868 -0.000315  0.025826   0.013148   \n",
      "pc             -0.018465  0.004196  0.028984  0.004938 -0.023819   0.014657   \n",
      "px_height       1.000000  0.510664 -0.020352  0.059615  0.043038  -0.010645   \n",
      "px_width        0.510664  1.000000  0.004105  0.021599  0.034699   0.006720   \n",
      "ram            -0.020352  0.004105  1.000000  0.015996  0.035576   0.010820   \n",
      "sc_h            0.059615  0.021599  0.015996  1.000000  0.506144  -0.017335   \n",
      "sc_w            0.043038  0.034699  0.035576  0.506144  1.000000  -0.022821   \n",
      "talk_time      -0.010645  0.006720  0.010820 -0.017335 -0.022821   1.000000   \n",
      "three_g        -0.031174  0.000350  0.015795  0.012033  0.030941  -0.042688   \n",
      "touch_screen    0.021891 -0.001628 -0.030455 -0.020023  0.012720   0.017196   \n",
      "wifi            0.051824  0.030319  0.022669  0.025929  0.035423  -0.029504   \n",
      "price_range     0.148858  0.165818  0.917046  0.022986  0.038711   0.021859   \n",
      "\n",
      "                three_g  touch_screen      wifi  price_range  \n",
      "battery_power  0.011522     -0.010516 -0.008343     0.200723  \n",
      "blue          -0.030236      0.010061 -0.021863     0.020573  \n",
      "clock_speed   -0.046433      0.019756 -0.024471    -0.006606  \n",
      "dual_sim      -0.014008     -0.017117  0.022740     0.017444  \n",
      "fc             0.001793     -0.014828  0.020085     0.021998  \n",
      "four_g         0.584246      0.016758 -0.017620     0.014772  \n",
      "int_memory    -0.009366     -0.026999  0.006993     0.044435  \n",
      "m_dep         -0.012065     -0.002638 -0.028353     0.000853  \n",
      "mobile_wt      0.001551     -0.014368 -0.000409    -0.030302  \n",
      "n_cores       -0.014733      0.023774 -0.009964     0.004399  \n",
      "pc            -0.001322     -0.008742  0.005389     0.033599  \n",
      "px_height     -0.031174      0.021891  0.051824     0.148858  \n",
      "px_width       0.000350     -0.001628  0.030319     0.165818  \n",
      "ram            0.015795     -0.030455  0.022669     0.917046  \n",
      "sc_h           0.012033     -0.020023  0.025929     0.022986  \n",
      "sc_w           0.030941      0.012720  0.035423     0.038711  \n",
      "talk_time     -0.042688      0.017196 -0.029504     0.021859  \n",
      "three_g        1.000000      0.013917  0.004316     0.023611  \n",
      "touch_screen   0.013917      1.000000  0.011917    -0.030411  \n",
      "wifi           0.004316      0.011917  1.000000     0.018785  \n",
      "price_range    0.023611     -0.030411  0.018785     1.000000  \n",
      "\n",
      "[21 rows x 21 columns]\n"
     ]
    }
   ],
   "source": [
    "print(corr)"
   ]
  },
  {
   "cell_type": "code",
   "execution_count": 16,
   "metadata": {},
   "outputs": [
    {
     "data": {
      "image/png": "[encoded data removed]",
      "text/plain": [
       "<Figure size 1080x576 with 2 Axes>"
      ]
     },
     "metadata": {
      "needs_background": "light"
     },
     "output_type": "display_data"
    }
   ],
   "source": [
    "import seaborn as sns\n",
    "import matplotlib.pyplot as plt\n",
    "plt.figure(figsize=(15,8))\n",
    "sns.heatmap(corr)\n",
    "plt.show()"
   ]
  },
  {
   "cell_type": "code",
   "execution_count": null,
   "metadata": {},
   "outputs": [],
   "source": []
  },
  {
   "cell_type": "code",
   "execution_count": null,
   "metadata": {},
   "outputs": [],
   "source": []
  }
 ],
 "metadata": {
  "kernelspec": {
   "display_name": "Python 3",
   "language": "python",
   "name": "python3"
  },
  "language_info": {
   "codemirror_mode": {
    "name": "ipython",
    "version": 3
   },
   "file_extension": ".py",
   "mimetype": "text/x-python",
   "name": "python",
   "nbconvert_exporter": "python",
   "pygments_lexer": "ipython3",
   "version": "3.7.8"
  }
 },
 "nbformat": 4,
 "nbformat_minor": 4
}
